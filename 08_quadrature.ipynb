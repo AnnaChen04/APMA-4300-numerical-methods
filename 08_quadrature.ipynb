{
 "cells": [
  {
   "cell_type": "markdown",
   "metadata": {
    "slideshow": {
     "slide_type": "skip"
    }
   },
   "source": [
    "<table>\n",
    " <tr align=left><td><img align=left src=\"./images/CC-BY.png\">\n",
    " <td>Text provided under a Creative Commons Attribution license, CC-BY. All code is made available under the FSF-approved MIT license. (c) Kyle T. Mandli</td>\n",
    "</table>"
   ]
  },
  {
   "cell_type": "code",
   "execution_count": 1,
   "metadata": {
    "slideshow": {
     "slide_type": "skip"
    }
   },
   "outputs": [],
   "source": [
    "from __future__ import print_function\n",
    "\n",
    "%matplotlib inline\n",
    "import numpy\n",
    "import matplotlib.pyplot as plt\n",
    "import warnings"
   ]
  },
  {
   "cell_type": "markdown",
   "metadata": {
    "hide_input": false,
    "slideshow": {
     "slide_type": "slide"
    }
   },
   "source": [
    "# Numerical Quadrature\n",
    "\n",
    "**Goal:** Accurately Evaluate definite integrals\n",
    "\n",
    "$$ \n",
    "\\int^b_a f(x) dx\n",
    "$$\n",
    "\n",
    "using a finite number of samples"
   ]
  },
  {
   "cell_type": "markdown",
   "metadata": {
    "slideshow": {
     "slide_type": "subslide"
    }
   },
   "source": [
    "### Why?\n",
    "\n",
    "1. Many integrals do not have closed form solutions\n",
    "\n",
    "$$ \n",
    "   \\int^b_a \\sqrt{1 + \\cos^2x}~ dx\n",
    "$$"
   ]
  },
  {
   "cell_type": "markdown",
   "metadata": {
    "slideshow": {
     "slide_type": "subslide"
    }
   },
   "source": [
    "### A more practical example:  The Error function\n",
    "\n",
    "The error function:\n",
    "\n",
    "$$ \n",
    "   \\mathrm{erf}(x) = \\frac{2}{\\sqrt{\\pi}}\\int_0^x e^{-t^2} dt\n",
    "$$\n",
    "is related to the cumuluative probability distribution of a Gaussian.  And is useful in probability and PDE's.  But has no closed form solution."
   ]
  },
  {
   "cell_type": "code",
   "execution_count": 2,
   "metadata": {
    "hide_input": true,
    "slideshow": {
     "slide_type": "-"
    }
   },
   "outputs": [
    {
     "data": {
      "image/png": "[encoded data removed]",
      "text/plain": [
       "<Figure size 576x432 with 1 Axes>"
      ]
     },
     "metadata": {
      "needs_background": "light"
     },
     "output_type": "display_data"
    }
   ],
   "source": [
    "from scipy.special import erf\n",
    "x = numpy.linspace(0.,3.,100)\n",
    "fig = plt.figure(figsize=(8,6))\n",
    "axes = fig.add_subplot(1,1,1)\n",
    "axes.plot(x, 2/numpy.sqrt(numpy.pi)*numpy.exp(-x**2),label='Gaussian',linewidth=2)\n",
    "axes.plot(x, erf(x),label='erf(x)',linewidth=2)\n",
    "axes.grid()\n",
    "axes.set_xlabel('x')\n",
    "axes.legend(loc='best')\n",
    "plt.show()"
   ]
  },
  {
   "cell_type": "markdown",
   "metadata": {
    "slideshow": {
     "slide_type": "subslide"
    }
   },
   "source": [
    "Solution to even simple non-linear ordinary differential equations\n",
    "   \n",
    "   $$\\frac{\\text{d} u}{\\text{d}t} = f(u)g(t)$$ with initial condition $u(0)=u_0$\n",
    "   \n",
    "   Can always be solved by \"reduction to quadrature\" i.e. the solution is given implicitly by\n",
    "   \n",
    "   $$\\int_{u_0}^{u}  \\frac{dv}{f(v)} = \\int_0^t g(\\tau)d\\tau$$\n",
    "   \n",
    "which are two, definite integrals that may, or may not have closed forms (but are essentially \"the area under the curve\")\n",
    "   "
   ]
  },
  {
   "cell_type": "markdown",
   "metadata": {
    "slideshow": {
     "slide_type": "skip"
    }
   },
   "source": [
    "Solution to ordinary differential equations\n",
    "   \n",
    "   $$\\frac{\\text{d}^2 u}{\\text{d}t^2} = f\\left(u, \\frac{\\text{d} u}{\\text{d}t}, t \\right)$$\n",
    "   \n",
    "   Defining $v = \\frac{\\text{d} u}{\\text{d}t}$ then leads to\n",
    "\n",
    "   $$\\begin{bmatrix}\n",
    "   \\frac{\\text{d} v}{\\text{d}t} \\\\ \\frac{\\text{d} u}{\\text{d}t} \\end{bmatrix} = \\begin{bmatrix} f(u, v, t) \\\\ v \\end{bmatrix}$$\n",
    "   \n",
    "   which can be solved by integration\n",
    "   \n",
    "   $$\\begin{bmatrix}\n",
    "   v \\\\ u \\end{bmatrix} = \\begin{bmatrix} v(t_0) + \\int^t_{t_0} f(u, v, \\hat{t}) d\\hat{t} \\\\ u(t_0) + \\int^t_{t_0} v d\\hat{t} \\end{bmatrix}$$  "
   ]
  },
  {
   "cell_type": "markdown",
   "metadata": {
    "slideshow": {
     "slide_type": "subslide"
    }
   },
   "source": [
    "Solving partial differential equations such as \"Poisson's equation\"\n",
    "$$\n",
    "     \\nabla^2 u = f\n",
    "$$\n",
    "\n",
    "using the finite element method, will use quadrature to reduce the PDE to a linear algebraic problem $A\\mathbf{u}=\\mathbf{f}$\n",
    "<table>\n",
    " <tr align=center><td><img align=center src=\"./images/poisson_simple_gmsh.png\" width=800>\n",
    "</table>\n",
    "\n",
    "Solution of poisson's equation on an irregular domain using [TerraFERMA](http://terraferma.github.io)\n"
   ]
  },
  {
   "cell_type": "markdown",
   "metadata": {
    "slideshow": {
     "slide_type": "slide"
    }
   },
   "source": [
    "### Basics of Quadrature\n",
    "\n",
    "We want to approximate an integral $I$ with some approximation $I_N$ such that\n",
    "$$\n",
    "    I = \\int^b_a f(x) dx \\approx I_N = \\sum^{N}_{i=1} w_i f(x_i)\n",
    "$$\n",
    "where the $x_i$ are the *quadrature points* or *nodes* and the $w_i$ are the *weights*.  Usually a particular quadrature rule specifies the points $x_i$ resulting in a particular set of weights $w_i$.\n",
    "\n",
    "Convergence requires that\n",
    "$$\n",
    "    \\lim_{N \\rightarrow \\infty} I_N = I.\n",
    "$$"
   ]
  },
  {
   "cell_type": "markdown",
   "metadata": {
    "slideshow": {
     "slide_type": "subslide"
    }
   },
   "source": [
    "## Riemann Sums\n",
    "\n",
    "Given $f(x)$ and a partition of the interval $[a,b]$ with $\\{x_i\\}^N_{i=0}$ and $a = x_0 < x_1 < \\ldots < x_N = b$ and $x^*_i \\in [x_i, x_{i+1}]$ we define the Riemann integral as\n",
    "\n",
    "$$\\int^b_a f(x) dx = \\lim_{N\\rightarrow \\infty} \\sum^{N-1}_{i=0} f(x_i^*) (x_{i+1} - x_i)$$\n",
    "\n",
    "This is a general definition and leads to a number of quadrature approaches that depend on how we pick $x_i^* \\in [x_i, x_{i+1}]$."
   ]
  },
  {
   "cell_type": "markdown",
   "metadata": {
    "slideshow": {
     "slide_type": "subslide"
    }
   },
   "source": [
    "### Midpoint Rule\n",
    "\n",
    "Choose $x_i^*$ such that\n",
    "\n",
    "$$x_i^* = \\frac{x_{i+1} + x_i}{2}$$"
   ]
  },
  {
   "cell_type": "markdown",
   "metadata": {
    "slideshow": {
     "slide_type": "fragment"
    }
   },
   "source": [
    "so that\n",
    "\n",
    "$$I[f] = \\int^b_a f(x) dx \\approx \\sum^{N-1}_{i=0} f\\left(\\frac{x_{i+1} + x_i}{2} \\right ) (x_{i+1} - x_i) = I_N[f]$$\n",
    "\n",
    "over $\\Delta x_i = x_{i+1} - x_i$ "
   ]
  },
  {
   "cell_type": "markdown",
   "metadata": {
    "slideshow": {
     "slide_type": "subslide"
    }
   },
   "source": [
    "#### Example:  Integrate using midpoint rule\n",
    "\n",
    "Calculate and illustrate the midpoint rule.  Note that we are computing the cummulative integral here:\n",
    "\n",
    "$$\n",
    "    \\int^x_0 \\sin(\\hat{x}) d\\hat{x} = \\left . -\\cos \\hat{x} \\right|^x_0 = 1 - \\cos x\n",
    "$$"
   ]
  },
  {
   "cell_type": "code",
   "execution_count": 8,
   "metadata": {
    "slideshow": {
     "slide_type": "subslide"
    }
   },
   "outputs": [],
   "source": [
    "# Note that this calculates the cumulative integral from 0.0\n",
    "\n",
    "f = lambda x: numpy.sin(x)\n",
    "I = lambda x: 1.0 - numpy.cos(x)\n",
    "x = numpy.linspace(0.0, 2.0 * numpy.pi, 100)\n",
    "\n",
    "num_partitions = 80\n",
    "x_hat = numpy.linspace(0.0, 2.0 * numpy.pi, num_partitions + 1)\n",
    "x_star = 0.5 * (x_hat[1:] + x_hat[:-1])\n",
    "delta_x = x_hat[1] - x_hat[0]"
   ]
  },
  {
   "cell_type": "code",
   "execution_count": 9,
   "metadata": {
    "hide_input": true,
    "slideshow": {
     "slide_type": "fragment"
    }
   },
   "outputs": [
    {
     "data": {
      "image/png": "[encoded data removed]",
      "text/plain": [
       "<Figure size 576x432 with 2 Axes>"
      ]
     },
     "metadata": {
      "needs_background": "light"
     },
     "output_type": "display_data"
    }
   ],
   "source": [
    "fig = plt.figure(figsize=(8,6))\n",
    "fig.subplots_adjust(hspace=.5)\n",
    "axes = fig.add_subplot(2, 1, 1)\n",
    "\n",
    "axes.plot(x, numpy.zeros(x.shape), 'k--')\n",
    "axes.plot(x, f(x), 'b')\n",
    "\n",
    "for i in range(num_partitions):\n",
    "    axes.plot([x_hat[i], x_hat[i]], [0.0, f(x_star[i])], 'k--')\n",
    "    axes.plot([x_hat[i + 1], x_hat[i + 1]], [0.0, f(x_star[i])], 'k--')\n",
    "    axes.plot([x_hat[i], x_hat[i + 1]], [f(x_star[i]), f(x_star[i])], 'k--')\n",
    "    \n",
    "axes.set_xlabel(\"x\")\n",
    "axes.set_ylabel(\"$f(x)$\")\n",
    "axes.set_title(\"Partition and $f(x)$\")\n",
    "axes.set_xlim((0.0, 2.0 * numpy.pi))\n",
    "axes.set_ylim((-1.1, 1.1))\n",
    "\n",
    "I_hat = numpy.zeros(num_partitions)\n",
    "I_hat[0] = f(x_star[0]) * delta_x\n",
    "for i in range(1, num_partitions):\n",
    "    I_hat[i] = I_hat[i - 1] + f(x_star[i]) * delta_x\n",
    "    \n",
    "axes = fig.add_subplot(2, 1, 2)\n",
    "\n",
    "axes.plot(x, I(x), 'r')\n",
    "# Offset due to indexing above\n",
    "axes.plot(x_star + delta_x / 2.0, I_hat, 'ko')\n",
    "\n",
    "err = numpy.abs(I(x_hat[1:]) - I_hat)\n",
    "\n",
    "axes.set_xlabel(\"x\")\n",
    "axes.set_ylabel(\"$f(x)$\")\n",
    "axes.set_title(\"Integral and Approximated Integral, Max Err = {}\".format(err.max()))\n",
    "axes.set_xlim((0.0, 2.0 * numpy.pi))\n",
    "axes.set_ylim((-0.1, 2.5))\n",
    "axes.grid()\n",
    "\n",
    "plt.show()"
   ]
  },
  {
   "cell_type": "markdown",
   "metadata": {
    "hide_input": true,
    "slideshow": {
     "slide_type": "slide"
    }
   },
   "source": [
    "### General Newton-Cotes Quadrature\n",
    "\n",
    "Using $n+1$ equally spaced points on a single interval $x\\in[a,b]$, evaluate $f(x)$ at these points and exactly integrate the interpolating polynomial:\n",
    "\n",
    "$$I_n[f] = \\int^b_a P_n(x) dx$$"
   ]
  },
  {
   "cell_type": "code",
   "execution_count": 7,
   "metadata": {
    "hide_input": true,
    "scrolled": false,
    "slideshow": {
     "slide_type": "fragment"
    }
   },
   "outputs": [
    {
     "data": {
      "image/png": "[encoded data removed]",
      "text/plain": [
       "<Figure size 1080x360 with 3 Axes>"
      ]
     },
     "metadata": {
      "needs_background": "light"
     },
     "output_type": "display_data"
    }
   ],
   "source": [
    "func = lambda x: 1 - x**2 + numpy.sin(5*x)\n",
    "x0 = 0.\n",
    "x1 = .5\n",
    "x_buf = .2\n",
    "x = numpy.linspace(x0 - x_buf, x1+ x_buf, 100)\n",
    "x_interval = numpy.linspace(x0, x1, 100)\n",
    "\n",
    "x_samp = numpy.array([ 0.5*(x0 + x1) ])\n",
    "f_samp = func(x_samp)\n",
    "\n",
    "fig = plt.figure(figsize=(15,5))\n",
    "axes = fig.add_subplot(1,3,1)\n",
    "axes.plot(x,func(x),linewidth=3)\n",
    "axes.plot(x_samp, f_samp, 'ro')\n",
    "axes.plot(x_interval, f_samp*numpy.ones(x_interval.shape), 'k--')\n",
    "axes.plot(x0*numpy.ones(2), [0., f_samp[0]],'k--')\n",
    "axes.plot(x1*numpy.ones(2), [0., f_samp[0]],'k--')\n",
    "axes.plot(x0*numpy.ones(2), [0., func(x0)],'b')\n",
    "axes.plot(x1*numpy.ones(2), [0., func(x1)],'b')\n",
    "axes.plot(x, numpy.zeros(x.shape),'k')\n",
    "axes.text(x0-.02,-.2,'$x_i$',fontsize=16)\n",
    "axes.text(x1-.02,-.2,'$x_{i+1}$',fontsize=16)\n",
    "axes.set_title('Midpoint Rule',fontsize=16)\n",
    "axes.set_xlabel('x', fontsize=16)\n",
    "axes.set_ylabel('f(x)', fontsize=16)\n",
    "axes.set_ylim((-0.25, 2.))\n",
    "axes.fill_between(x_interval,0.,func(x_interval))\n",
    "axes.fill_between(x_interval, 0, f_samp*numpy.ones(x_interval.shape), hatch='/', alpha=0)\n",
    "axes.grid()\n",
    "\n",
    "axes = fig.add_subplot(1,3,2)\n",
    "x_samp = numpy.array([x0, x1])\n",
    "f_samp = func(x_samp)\n",
    "axes.plot(x,func(x),linewidth=3)\n",
    "axes.plot(x_samp, f_samp, 'ro')\n",
    "axes.plot(x_samp, f_samp, 'k--')\n",
    "axes.plot(x0*numpy.ones(2), [0., f_samp[0]],'k--')\n",
    "axes.plot(x1*numpy.ones(2), [0., f_samp[1]],'k--')\n",
    "axes.plot(x0*numpy.ones(2), [0., func(x0)],'b')\n",
    "axes.plot(x1*numpy.ones(2), [0., func(x1)],'b')\n",
    "axes.plot(x, numpy.zeros(x.shape),'k')\n",
    "axes.text(x0-.02,-.2,'$x_i$',fontsize=16)\n",
    "axes.text(x1-.02,-.2,'$x_{i+1}$',fontsize=16)\n",
    "axes.set_title('Trapezoidal Rule',fontsize=16)\n",
    "axes.set_xlabel('x', fontsize=16)\n",
    "axes.set_ylabel('f(x)', fontsize=16)\n",
    "axes.set_ylim((-0.25, 2.))\n",
    "axes.fill_between(x_interval,0.,func(x_interval))\n",
    "axes.fill_between(x_samp,0.,f_samp, hatch='/', alpha=0)\n",
    "\n",
    "\n",
    "axes.grid()\n",
    "\n",
    "axes = fig.add_subplot(1,3,3)\n",
    "x_samp = numpy.array([x0, (x0 + x1)/2., x1])\n",
    "f_samp = func(x_samp)\n",
    "p = numpy.polyfit(x_samp, f_samp, 2)\n",
    "f_p2 = numpy.polyval(p, x_interval)\n",
    "axes.plot(x,func(x),linewidth=3)\n",
    "axes.plot(x_samp, f_samp, 'ro')\n",
    "axes.plot(x_interval, f_p2, 'k--')\n",
    "axes.plot(x0*numpy.ones(2), [0., f_samp[0]],'k--')\n",
    "axes.plot(x1*numpy.ones(2), [0., f_samp[-1]],'k--')\n",
    "axes.plot(x0*numpy.ones(2), [0., func(x0)],'b')\n",
    "axes.plot(x1*numpy.ones(2), [0., func(x1)],'b')\n",
    "axes.plot(x, numpy.zeros(x.shape),'k')\n",
    "axes.text(x0-.02,-.2,'$x_i$',fontsize=16)\n",
    "axes.text(x1-.02,-.2,'$x_{i+1}$',fontsize=16)\n",
    "axes.set_title('Simpsons Rule',fontsize=16)\n",
    "axes.set_xlabel('x', fontsize=16)\n",
    "axes.set_ylabel('f(x)', fontsize=16)\n",
    "axes.set_ylim((-0.25, 2.))\n",
    "axes.fill_between(x_interval,0.,func(x_interval))\n",
    "axes.fill_between(x_interval,0.,f_p2, hatch='/', alpha=0)\n",
    "\n",
    "\n",
    "axes.grid()\n",
    "plt.show()"
   ]
  },
  {
   "cell_type": "markdown",
   "metadata": {
    "slideshow": {
     "slide_type": "subslide"
    }
   },
   "source": [
    "#### Trapezoidal Rule\n",
    "\n",
    "Use $n = 1$ polynomial to derive the trapezoidal rule."
   ]
  },
  {
   "cell_type": "markdown",
   "metadata": {
    "slideshow": {
     "slide_type": "fragment"
    }
   },
   "source": [
    "Trapezoidal rule uses $n = 1$ order polynomials between each point (i.e. piece-wise defined linear polynomials).  Using the Linear Lagrange basis we can write the interpolating polynomial as \n",
    "\n",
    "$$\n",
    "    P_1(x) = f(x_i)\\frac{x_{i+1}-x}{\\Delta x} + f(x_{i+1})\\frac{x - x_i}{\\Delta x}\n",
    "$$\n",
    "\n",
    "where $\\Delta x = x_{i+1}-x_i$ is the width of the interval."
   ]
  },
  {
   "cell_type": "markdown",
   "metadata": {
    "slideshow": {
     "slide_type": "subslide"
    }
   },
   "source": [
    "Integrating this polynomial we have for a single interval\n",
    "\n",
    "\\begin{aligned}\n",
    "    I_T[f] &= \\int^{x_{i+1}}_{x_i} f(x_i)\\ell_0(x) + f(x_{i+1})\\ell_1(x) dx  \\\\\n",
    "    &=\\frac{1}{\\Delta x}  \\left. \\left[ f(x_i)\\left(x_{i+1}x - \\frac{x^2}{2}\\right) + f(x_{i+1})\\left(\\frac{x^2}{2}-xx_i\\right) \\right] \\right|_{x_i}^{x_{i+1}} \\\\\n",
    "    &= \\frac{1}{\\Delta x}  \\left[ f(x_i)\\left(\\frac{x_{i+1}^2}{2} -x_ix_{i+1} + x_i^2\\right) + f(x_{i+1})\\left(\\frac{x_{i+1}^2}{2} -x_ix_{i+1} + x_i^2\\right) \\right]\\\\\n",
    "    &= \\frac{(x_{i+1} - x_i)^2}{2\\Delta x}\\left[ f(x_i) + f(x_{i+1})\\right]\\\\\n",
    "    & = \\frac{\\Delta x}{2}\\left[ f(x_i) + f(x_{i+1}) \\right] \\\\\n",
    "    & = \\Delta x\\left[ \\frac{1}{2} f(x_i) + \\frac{1}{2} f(x_{i+1})\\right]\n",
    "\\end{aligned}"
   ]
  },
  {
   "cell_type": "markdown",
   "metadata": {
    "slideshow": {
     "slide_type": "subslide"
    }
   },
   "source": [
    "### Transformation of the interval\n",
    "\n",
    "For quadrature,  it is often  more convenient to transform the interval from $[x_i, x_{i+1}]$ to the unit interval using the transformation\n",
    "\n",
    "$$\n",
    "    x(s) = x_i + s\\Delta x\n",
    "$$\n",
    "\n",
    "where $s\\in[0,1]$ is just the fractional distance across the element and $dx = \\Delta x ds$.\n",
    "\n",
    "As before,  in this frame \n",
    "$$\n",
    "    \\ell_0(s) = (1-s), \\quad \\ell_1(s) = s\n",
    "$$"
   ]
  },
  {
   "cell_type": "markdown",
   "metadata": {
    "slideshow": {
     "slide_type": "subslide"
    }
   },
   "source": [
    "Under this transformation,  the original integral\n",
    "$$\n",
    "    I_T[f] = \\int^{x_{i+1}}_{x_i} f(x_i)\\ell_0(x) + f(x_{i+1})\\ell_1(x) dx  \n",
    "$$"
   ]
  },
  {
   "cell_type": "markdown",
   "metadata": {
    "slideshow": {
     "slide_type": "fragment"
    }
   },
   "source": [
    "Becomes much simpler\n",
    "$$\n",
    "    I_T[f] = \\Delta x \\int_{0}^{1} f(x_i)(1 - s) + f(x_{i+1})s\\, ds  \n",
    "$$"
   ]
  },
  {
   "cell_type": "markdown",
   "metadata": {
    "slideshow": {
     "slide_type": "fragment"
    }
   },
   "source": [
    "or\n",
    "$$\n",
    "\\begin{aligned}\n",
    "I_T[f] &= \\Delta x \\left. \\left[ f(x_i)(s -\\frac{s^2}{2}) + f(x_{i+1}) \\frac{s^2}{2} \\right]  \\right|_0^1\\\\\n",
    "    & = \\Delta x\\left[ \\frac{1}{2} f(x_i) + \\frac{1}{2} f(x_{i+1})\\right]\n",
    "\\end{aligned}\n",
    "$$\n"
   ]
  },
  {
   "cell_type": "markdown",
   "metadata": {
    "slideshow": {
     "slide_type": "subslide"
    }
   },
   "source": [
    "### Extended Trapezoidal rule\n",
    "\n",
    "If we now panel a larger interval with $N$ panels of size $\\Delta x$,  we can calculate the *Extended Trapezoidal rule*, by summing the individual contributions of each Trapezoidal panel. \n",
    "\n",
    "$$\n",
    "    I_N[f] = \\sum_{j=1}^N I_T[f]_j \n",
    "$$"
   ]
  },
  {
   "cell_type": "markdown",
   "metadata": {
    "slideshow": {
     "slide_type": "fragment"
    }
   },
   "source": [
    "We can also simplify the sum over all the intervals by noting that all but the end points will have total contribution of $\\Delta x$ to the entire sum such that\n",
    "\n",
    "$$\n",
    "    I_N[f] = \\Delta x \\left[ \\frac{1}{2} (f(x_0) + f(x_N) ) + \\sum^{N-1}_{j=1} f(x_j) \\right]\n",
    "$$\n",
    "\n"
   ]
  },
  {
   "cell_type": "code",
   "execution_count": 3,
   "metadata": {
    "slideshow": {
     "slide_type": "subslide"
    }
   },
   "outputs": [],
   "source": [
    "# Note that this calculates the cumulative integral from 0.0\n",
    "\n",
    "f = lambda x: numpy.sin(x)\n",
    "I = lambda x: 1.0 - numpy.cos(x)\n",
    "x = numpy.linspace(0.0, 2.0 * numpy.pi, 100)\n",
    "\n",
    "num_partitions = 20\n",
    "x_hat = numpy.linspace(0.0, 2.0 * numpy.pi, num_partitions + 1)\n",
    "delta_x = x_hat[1] - x_hat[0]"
   ]
  },
  {
   "cell_type": "code",
   "execution_count": 4,
   "metadata": {
    "hide_input": true,
    "slideshow": {
     "slide_type": "-"
    }
   },
   "outputs": [
    {
     "data": {
      "image/png": "[encoded data removed]",
      "text/plain": [
       "<Figure size 576x432 with 2 Axes>"
      ]
     },
     "metadata": {
      "needs_background": "light"
     },
     "output_type": "display_data"
    }
   ],
   "source": [
    "fig = plt.figure(figsize=(8,6))\n",
    "fig.subplots_adjust(hspace=.5)\n",
    "axes = fig.add_subplot(2, 1, 1)\n",
    "\n",
    "axes.plot(x, numpy.zeros(x.shape), 'k--')\n",
    "axes.plot(x, f(x), 'b')\n",
    "\n",
    "for i in range(num_partitions):\n",
    "    axes.plot([x_hat[i], x_hat[i]], [0.0, f(x_hat[i])], 'k--')\n",
    "    axes.plot([x_hat[i + 1], x_hat[i + 1]], [0.0, f(x_hat[i+1])], 'k--')\n",
    "    axes.plot([x_hat[i], x_hat[i + 1]], [f(x_hat[i]), f(x_hat[i+1])], 'k--')\n",
    "    \n",
    "axes.set_xlabel(\"x\")\n",
    "axes.set_ylabel(\"$f(x)$\")\n",
    "axes.set_title(\"Partition and $f(x)$\")\n",
    "axes.set_xlim((0.0, 2.0 * numpy.pi))\n",
    "axes.set_ylim((-1.1, 1.1))\n",
    "\n",
    "I_hat = numpy.zeros(num_partitions)\n",
    "I_hat[0] = (f(x_hat[1]) + f(x_hat[0])) * delta_x / 2.0\n",
    "for i in range(1, num_partitions):\n",
    "    I_hat[i] = I_hat[i - 1] + (f(x_hat[i + 1]) + f(x_hat[i])) * delta_x / 2.0\n",
    "\n",
    "err = numpy.abs(I(x_hat[1:]) - I_hat)\n",
    "\n",
    "axes = fig.add_subplot(2, 1, 2)\n",
    "\n",
    "axes.plot(x, I(x), 'r')\n",
    "# Offset due to indexing above\n",
    "axes.plot(x_hat[1:], I_hat, 'ko')\n",
    "\n",
    "axes.set_xlabel(\"x\")\n",
    "axes.set_ylabel(\"$f(x)$\")\n",
    "axes.set_title(\"Integral and Approximated Integral, Max Err = {}\".format(err.max()))\n",
    "axes.set_xlim((0.0, 2.0 * numpy.pi))\n",
    "axes.set_ylim((-0.1, 2.5))\n",
    "axes.grid()\n",
    "\n",
    "plt.show()"
   ]
  },
  {
   "cell_type": "markdown",
   "metadata": {
    "slideshow": {
     "slide_type": "subslide"
    }
   },
   "source": [
    "#### Simpson's Rule\n",
    "\n",
    "Simpson's rule uses $N = 2$ order polynomials between each point (i.e. piece-wise defined quadratic polynomials at points $(x_i, x_i+\\Delta x/2, x_{i+1}$ where $\\Delta x = x_{i+1} - x_{i}$).  \n",
    "\n",
    "The polynomial in the Lagrange basis has the form\n",
    "\n",
    "$$P_2(x) = f(x_i)\\ell_0(x) + f(x_i + \\Delta x/2)\\ell_1(x) + f(x_{i+1})\\ell_2(x)$$\n",
    "\n",
    "Which we can just integrate to find\n",
    "\n",
    "$$\n",
    "I_S[f] = \\int^{x_{i+1}}_{x_i} P_2(x) dx\n",
    "$$"
   ]
  },
  {
   "cell_type": "markdown",
   "metadata": {
    "slideshow": {
     "slide_type": "subslide"
    }
   },
   "source": [
    "For this problem,  transformation of the interval  makes this much easier, and the Quadrature rule becomes\n",
    "\n",
    "$$\n",
    "\\begin{aligned}\n",
    "I_S[f] &= \\Delta x\\int_0^1  \\left[f_0\\ell_0(s) + f_1\\ell_1(s) + f_2\\ell_2(s)\\right]\\,ds\\\\\n",
    "       &= \\Delta x\\int_0^1 \\left[f_0\\frac{(s-1/2)(s-1)}{1/2} + f_1 \\frac{s(s-1)}{-1/4} + f_2\\frac{s(s-1/2)}{1/2}\\right]\\,ds\n",
    "\\end{aligned}\n",
    "$$"
   ]
  },
  {
   "cell_type": "markdown",
   "metadata": {
    "slideshow": {
     "slide_type": "fragment"
    }
   },
   "source": [
    "after a bit of work we get\n",
    "\n",
    "$$   \\begin{aligned}I_S[f] &= \\Delta x\\left[\\frac{1}{6} f(x_i) + \\frac{2}{3} f(x_i + 1/2\\Delta x) + \\frac{1}{6} f(x_{i+1}) \\right] \\\\\n",
    "&= \\frac{\\Delta x}{6}\\left[f(x_i) + 4 f(x_i + 1/2\\Delta x) + f(x_{i+1}) \\right] \\\\\n",
    "\\end{aligned}\n",
    "$$\n",
    "\n",
    "Note:  Like all quadrature rules,  the integral over a single interval of size $\\Delta x$ is always\n",
    "\n",
    "$$\n",
    "    I \\approx \\Delta x\\sum_{i=0}^n w_i f(x_i)\n",
    "$$"
   ]
  },
  {
   "cell_type": "markdown",
   "metadata": {
    "slideshow": {
     "slide_type": "subslide"
    }
   },
   "source": [
    "### Derivation of Newton Cotes formulas using the method of undetermined coefficients.  \n",
    "\n",
    "Use the general form of the quadrature rule and determine weights $w_j$ by using functions we know the solution to.  These functions can be any representation of polynomials up to order $N=2$ however the monomials $1$, $x$, $x^2$ are the easiest in this case.\n",
    "\n",
    "$$\n",
    "    I_{\\Delta x}[f] = w_0 f(0) + w_1 f(\\Delta x / 2) + w_2 f(\\Delta x)\n",
    "$$"
   ]
  },
  {
   "cell_type": "markdown",
   "metadata": {
    "slideshow": {
     "slide_type": "fragment"
    }
   },
   "source": [
    "$$\\begin{aligned}\n",
    "    &\\text{if}~f = 1:  &I[f] =  \\int^{\\Delta x}_{0} 1 dx = \\Delta x  \\\\\n",
    "    &\\text{if}~f = x:  &I[f] =  \\int^{\\Delta x}_{0} x dx = \\frac{\\Delta x^2}{2} \\\\\n",
    "    &\\text{if}~f = x^2:  &I[f] =  \\int^{\\Delta x}_{0} x^2 dx = \\frac{\\Delta x^3}{3}\n",
    "\\end{aligned}$$\n",
    "\n",
    "What are the corresponding systems of equations?"
   ]
  },
  {
   "cell_type": "markdown",
   "metadata": {
    "slideshow": {
     "slide_type": "subslide"
    }
   },
   "source": [
    "$$\n",
    "    I[f] = w_0 f(0) + w_1 f(\\Delta x / 2) + w_2 f(\\Delta x)\n",
    "$$"
   ]
  },
  {
   "cell_type": "markdown",
   "metadata": {
    "slideshow": {
     "slide_type": "fragment"
    }
   },
   "source": [
    "$$\\begin{aligned}\n",
    "    &\\text{if}~f = 1:  &I[f] =  \\int^{\\Delta x}_{0} 1 dx = \\Delta x & & I_N[1] &= w_0 + w_1 + w_2 \\\\\n",
    "    &\\text{if}~f = x:  &I[f] =  \\int^{\\Delta x}_{0} x dx = \\frac{\\Delta x^2}{2} & & I_N[x] &= w_1 \\frac{\\Delta x}{2} + w_2\\Delta x\\\\\n",
    "    &\\text{if}~f = x^2:  &I[f] =  \\int^{\\Delta x}_{0} x^2 dx = \\frac{\\Delta x^3}{3} & & I_N[x^2] &= \\frac{\\Delta x^2}{4} w_1 + w_2\\Delta x^2\\\\\n",
    "\\end{aligned}$$"
   ]
  },
  {
   "cell_type": "markdown",
   "metadata": {
    "slideshow": {
     "slide_type": "subslide"
    }
   },
   "source": [
    "We then have the system of equations:\n",
    "$$\\begin{aligned}\n",
    "    w_0 &+& w_1 &+& w_2 &=\\Delta x \\\\\n",
    "        &\\quad& \\frac{\\Delta x}{2} w_1 &+& \\Delta x w_2  &= \\frac{\\Delta x^2}{2} \\\\\n",
    "        &\\quad& \\frac{\\Delta x^2}{4} w_1 &+& \\Delta x^2 w_2 &=\\frac{\\Delta x^3}{6} \\\\\n",
    "\\end{aligned}$$"
   ]
  },
  {
   "cell_type": "markdown",
   "metadata": {
    "slideshow": {
     "slide_type": "fragment"
    }
   },
   "source": [
    "or in Matrix-vector form $A\\mathbf{x}=\\mathbf{b}$\n",
    "\n",
    "$$\\begin{bmatrix}\n",
    "1 & 1 & 1 \\\\\n",
    "0 & \\Delta x/2 &  \\Delta x \\\\\n",
    "0 & \\Delta x^2/4 & \\Delta x^2 \\\\\n",
    "\\end{bmatrix}\n",
    "\\begin{bmatrix} w_0 \\\\ w_1 \\\\  w_2 \\\\ \\end{bmatrix}=\n",
    "\\begin{bmatrix} \\Delta x \\\\ \\Delta x^2/2 \\\\  \\Delta x^3/6 \\\\ \\end{bmatrix}\n",
    "$$\n",
    "\n",
    "\n"
   ]
  },
  {
   "cell_type": "markdown",
   "metadata": {
    "slideshow": {
     "slide_type": "subslide"
    }
   },
   "source": [
    "or after some manipulation (and elimination) gives \n",
    "\n",
    "$$\n",
    "\\begin{bmatrix}\n",
    "    1 & 1 & 1 \\\\\n",
    "    0 & 1 / 2 & 1 \\\\\n",
    "    0 & 1 / 4 & 1 \\\\\n",
    "\\end{bmatrix} \\begin{bmatrix}\n",
    "    w_0 \\\\ w_1 \\\\ w_2\n",
    "\\end{bmatrix} = \\Delta x \\begin{bmatrix} \n",
    "    1 \\\\ 1 / 2 \\\\ 1 / 3\n",
    "\\end{bmatrix}\\Rightarrow \n",
    "\\begin{bmatrix}\n",
    "    1 & 1 & 1 \\\\\n",
    "    0 & 1 / 2 & 1 \\\\\n",
    "    0 & 0 & 1 \\\\\n",
    "\\end{bmatrix} \\begin{bmatrix}\n",
    "    w_0 \\\\ w_1 \\\\ w_2\n",
    "\\end{bmatrix} = \\Delta x \\begin{bmatrix} \n",
    "    1 \\\\   1 / 2 \\\\   1 / 6\n",
    "\\end{bmatrix}\n",
    "$$\n",
    "\n",
    "Leading to \n",
    "\n",
    "$$ w_2 = \\frac{\\Delta x}{6} \\quad w_1 = \\frac{2}{3} \\Delta x \\quad w_0 = \\frac{\\Delta x}{6}$$\n",
    "\n",
    "Another way to write Simpson's rule is to use intervals of three points (similar to one of the ways we did this last time).  The formulation here effectively has a $\\Delta x$ half of what the intervals show but is easier to program."
   ]
  },
  {
   "cell_type": "code",
   "execution_count": 7,
   "metadata": {
    "slideshow": {
     "slide_type": "subslide"
    }
   },
   "outputs": [],
   "source": [
    "# Note that this calculates the cummulative integral from 0.0\n",
    "\n",
    "f = lambda x: numpy.sin(x)\n",
    "I = lambda x: 1.0 - numpy.cos(x)\n",
    "x = numpy.linspace(0.0, 2.0 * numpy.pi, 100)\n",
    "\n",
    "num_partitions = 20\n",
    "x_hat = numpy.linspace(0.0, 2.0 * numpy.pi, num_partitions + 1)\n",
    "delta_x = x_hat[1] - x_hat[0]"
   ]
  },
  {
   "cell_type": "code",
   "execution_count": 8,
   "metadata": {
    "hide_input": true,
    "slideshow": {
     "slide_type": "-"
    }
   },
   "outputs": [
    {
     "data": {
      "image/png": "[encoded data removed]",
      "text/plain": [
       "<Figure size 576x432 with 2 Axes>"
      ]
     },
     "metadata": {
      "needs_background": "light"
     },
     "output_type": "display_data"
    }
   ],
   "source": [
    "fig = plt.figure(figsize=(8,6))\n",
    "fig.subplots_adjust(hspace=.5)\n",
    "axes = fig.add_subplot(2, 1, 1)\n",
    "\n",
    "axes.plot(x, numpy.zeros(x.shape), 'k--')\n",
    "axes.plot(x, f(x), 'b')\n",
    "\n",
    "for i in range(num_partitions):\n",
    "    axes.plot([x_hat[i], x_hat[i]], [0.0, f(x_hat[i])], 'k--')\n",
    "    axes.plot([x_hat[i + 1], x_hat[i + 1]], [0.0, f(x_hat[i + 1])], 'k--')\n",
    "    coeff = numpy.polyfit((x_hat[i], x_hat[i] + delta_x / 2.0, x_hat[i + 1]), \n",
    "                          (f(x_hat[i]), f(x_hat[i] + delta_x / 2.0), f(x_hat[i+1])), 2)\n",
    "    x_star = numpy.linspace(x_hat[i], x_hat[i+1], 10)\n",
    "    axes.plot(x_star, numpy.polyval(coeff, x_star), 'k--')\n",
    "    \n",
    "axes.set_xlabel(\"x\")\n",
    "axes.set_ylabel(\"$f(x)$\")\n",
    "axes.set_title(\"Partition and $f(x)$\")\n",
    "axes.set_xlim((0.0, 2.0 * numpy.pi))\n",
    "axes.set_ylim((-1.1, 1.1))\n",
    "#axes.grid()\n",
    "\n",
    "I_hat = numpy.zeros(num_partitions)\n",
    "I_hat[0] = delta_x * (1.0 / 6.0 * (f(x_hat[0]) + f(x_hat[1])) + 2.0 / 3.0 * f(x_hat[0] + delta_x / 2.0))\n",
    "for i in range(1, num_partitions):\n",
    "    I_hat[i] = I_hat[i - 1] + delta_x * (1.0 / 6.0 * (f(x_hat[i]) + f(x_hat[i+1])) + 2.0 / 3.0 * f(x_hat[i] + delta_x / 2.0))\n",
    "    \n",
    "err = numpy.abs(I(x_hat[1:]) - I_hat)\n",
    "    \n",
    "axes = fig.add_subplot(2, 1, 2)\n",
    "\n",
    "axes.plot(x, I(x), 'r')\n",
    "# Offset due to indexing above\n",
    "axes.plot(x_hat[1:], I_hat, 'ko')\n",
    "\n",
    "axes.set_xlabel(\"x\")\n",
    "axes.set_ylabel(\"$f(x)$\")\n",
    "axes.set_title(\"Integral and Approximated Integral, Max Err = {}\".format(err.max()))\n",
    "axes.set_xlim((0.0, 2.0 * numpy.pi))\n",
    "axes.set_ylim((-0.1, 2.5))\n",
    "axes.grid()\n",
    "\n",
    "plt.show()"
   ]
  },
  {
   "cell_type": "markdown",
   "metadata": {
    "slideshow": {
     "slide_type": "subslide"
    }
   },
   "source": [
    "## Error Analysis\n",
    "\n",
    "From before we have a particular $n$-point quadrature scheme $I_n$ for a single interval which we can also write as\n",
    "\n",
    "$$\n",
    "    I_n[f] = \\sum^{n-1}_{i=0} w_i f(x_i).\n",
    "$$"
   ]
  },
  {
   "cell_type": "markdown",
   "metadata": {
    "slideshow": {
     "slide_type": "subslide"
    }
   },
   "source": [
    "Define the error $E[f]$ such that\n",
    "\n",
    "$$I[f] = I_n[f] + E_n[f]$$\n",
    "\n",
    "The *degree* of $I_n[f]$ is the integer $p$ such that $E_n[P_i] = 0 \\quad \\forall i \\leq p$ and $\\exists P_{p+1}$ such that $E[P_{p+1}] \\neq 0$. In other words,  it is the maximum degree polynomial that is integrated *exactly* using $I_n$.  As we will show\n",
    "\n",
    "* Mid-point rule: p=1 -- exact for all linear polynomials\n",
    "* Trapezoidal rule: p=1 -- also exact for all linear polynomials\n",
    "* Simpson's rule: p=3 -- exact for all cubic polynomials\n",
    "\n",
    "There are multiple (related) ways to estimate Quadrature error that either use the Taylor series or the Lagrange Remainder theorem.  "
   ]
  },
  {
   "cell_type": "markdown",
   "metadata": {
    "slideshow": {
     "slide_type": "subslide"
    }
   },
   "source": [
    "#### Mid-Point error\n",
    "\n",
    "For a 1-Point quadrature rule like the Mid-point rule,  Taylor's theorem is easiest to use as we can just expand $f(x)$ around the midpoint such that\n",
    "\n",
    "$$\n",
    "    f(x) = f(x^*) + f'(x^*)(x - x^*) + \\frac{f''(x^*)}{2}(x - x^*)^2 + O(f'''(x - x^*)^3)\n",
    "$$\n",
    "\n",
    "where $x^*=(x_i + x_{i+1})/2$ is the midpoint of the interval"
   ]
  },
  {
   "cell_type": "markdown",
   "metadata": {
    "slideshow": {
     "slide_type": "subslide"
    }
   },
   "source": [
    "Integrating over one element $x\\in[x_i,x_{i + 1}]$ Gives\n",
    "\n",
    "$$\n",
    "\\begin{align}\n",
    "    \\int_{x_i}^{x_{i+1}} f(x) dx  &=  \\int_{x_i}^{x_{i+1}} \\left(f(x^*) + f'(x^*)(x - x^*) + \\frac{f''(x^*)}{2}(x - x^*)^2 + O(f'''(x - x^*)^3)\\right) dx\\\\\n",
    "    &=  f(x^*)\\Delta x + \\int_{x_i}^{x_{i+1}}  \\left(f'(x^*)(x - x^*) + \\frac{f''(x^*)}{2}(x - x^*)^2 + O(f'''(x - x^*)^3)\\right) dx\\\\\n",
    "    \\end{align}\n",
    "$$"
   ]
  },
  {
   "cell_type": "markdown",
   "metadata": {
    "slideshow": {
     "slide_type": "fragment"
    }
   },
   "source": [
    "or\n",
    "$$\n",
    "    I[f] = I_M[f] + \\int_{x_i}^{x_{i+1}} f'(x^*)(x - x^*)dx + \\int_{x_i}^{x_{i+1}} \\frac{f''(x^*)}{2}(x - x^*)^2dx + HOT\n",
    "$$\n",
    "\n",
    "where $I_M[f] = f(x^*)\\Delta x$ is the Midpoint quadrature rule.  "
   ]
  },
  {
   "cell_type": "markdown",
   "metadata": {
    "slideshow": {
     "slide_type": "fragment"
    }
   },
   "source": [
    "With a bit of work (or some clear thinking) you can show that the the second term on the RHS is exactly zero and that the leading order error term comes from  the third-term which evaluates to \n",
    "\n",
    "$$\n",
    "    R_M[f] = \\frac{\\Delta x^3 f''(x_{1/2})}{24}\n",
    "$$\n",
    "\n",
    "As the mid-point rule is exact for degree 1 polynomials (i.e. straight lines) "
   ]
  },
  {
   "cell_type": "markdown",
   "metadata": {
    "slideshow": {
     "slide_type": "subslide"
    }
   },
   "source": [
    "### Error Estimates using Polynomial interpolation\n",
    "\n",
    "We can also use our polynomial analysis  to analyze  errors.  From Lagrange's theorem we have the remainder term as before which we can use to look at the error\n",
    "\n",
    "$$R_N(x) = (x - x_0)(x - x_1) \\cdots (x- x_N) \\frac{f^{(N+1)}(c)}{(N+1)!}$$\n",
    "\n",
    "and integrate it to find the form and magnitude of the error on a *single* interval.  "
   ]
  },
  {
   "cell_type": "markdown",
   "metadata": {
    "slideshow": {
     "slide_type": "subslide"
    }
   },
   "source": [
    "#### Trapezoidal error\n",
    "\n",
    "With $n=1$ we have\n",
    "\n",
    "$$R_1(x) = (x - x_i) (x - x_{i+1}) \\frac{f''(c)}{2}$$\n",
    "\n",
    "Integrating this leads to\n",
    "\n",
    "$$\\int^{x_{i+1}}_{x_i} (x - x_i) (x - x_{i+1}) \\frac{f''(c)}{2} dx = \\frac{\\Delta x^3}{12} f''(c)$$"
   ]
  },
  {
   "cell_type": "markdown",
   "metadata": {
    "slideshow": {
     "slide_type": "fragment"
    }
   },
   "source": [
    "**Note**: \n",
    "   * The single-interval error for the Trapezoidal rule is of the same order as the Mid-point rule\n",
    "   * Surprisingly, the magnitude of error for the Trapezoidal rule is **twice** that of the Mid-point rule!"
   ]
  },
  {
   "cell_type": "markdown",
   "metadata": {
    "slideshow": {
     "slide_type": "subslide"
    }
   },
   "source": [
    "#### Simpson's Rule Error\n",
    "\n",
    "We could apply the same approach to Simpson's rule using the remainder term for quadratic functions\n",
    "\n",
    "$$R_2(x) = (x - x_i) \\left(x - x_i - \\frac{\\Delta x}{2} \\right) (x - x_{i+1}) \\frac{f'''(c)}{3!}$$\n",
    "\n",
    "However we would actually find that this term cancels exactly (in the same way that the mid-point scheme has a cancellation in the Taylor series expansion).  A more detailed Taylor's series analysis shows that the leading error term for Simpson's rule is \n",
    "\n",
    "$$E_S[f] = -\\frac{1}{180}\\Delta x^5 f^{(4)}(c)$$\n",
    "\n",
    "which is exact for cubic polynomials ($p=3$). Interestingly we have gained two orders of accuracy by increasing the polynomial order by only 1!"
   ]
  },
  {
   "cell_type": "markdown",
   "metadata": {
    "slideshow": {
     "slide_type": "slide"
    }
   },
   "source": [
    "### Review:  Newton-Cotes Formulas and errors for a single interval \n",
    "\n",
    "given $x\\in[x_i, x_{i+1}]$ and $\\Delta x = x_{i+1} - x_i$, all of the   Newton-Cotes quadrature formula's can be derived by integrating the interpolating polynomial through $N$ equi-spaced points across the interval.  \n",
    "\n",
    "* Mid-point: 1-point quadrature rule\n",
    "$$\n",
    "    I_M[f] = \\Delta x\\, f(x_i + \\Delta x/2) + O(\\Delta x^3f'')\n",
    "$$\n",
    "* Trapezoidal Rule: 2-point quadrature rule\n",
    "$$\n",
    "    I_T[f] = \\Delta x\\, \\left[\\frac{1}{2}f(x_i) +\\frac{1}{2}f(x_{i+1})\\right] + O(\\Delta x^3f'')\n",
    "$$\n",
    "* Simpson's Rule: 3-point quadrature rule\n",
    "$$\n",
    "    I_S[f] = \\Delta x\\, \\left[ \\frac{1}{6}f(x_i) +  \\frac{2}{3}f(x_i +\\Delta x/2) +\\frac{1}{6}f(x_{i+1})\\right] + O(\\Delta x^5f^{iv})\n",
    "$$\n"
   ]
  },
  {
   "cell_type": "code",
   "execution_count": 21,
   "metadata": {
    "hide_input": true,
    "scrolled": true,
    "slideshow": {
     "slide_type": "subslide"
    }
   },
   "outputs": [
    {
     "data": {
      "image/png": "[encoded data removed]",
      "text/plain": [
       "<Figure size 1080x360 with 3 Axes>"
      ]
     },
     "metadata": {
      "needs_background": "light"
     },
     "output_type": "display_data"
    }
   ],
   "source": [
    "func = lambda x: 1 - x**2 + numpy.sin(5*x)\n",
    "x0 = 0.\n",
    "x1 = .5\n",
    "x_buf = .2\n",
    "x = numpy.linspace(x0 - x_buf, x1+ x_buf, 100)\n",
    "x_interval = numpy.linspace(x0, x1, 100)\n",
    "\n",
    "x_samp = numpy.array([ 0.5*(x0 + x1) ])\n",
    "f_samp = func(x_samp)\n",
    "\n",
    "fig = plt.figure(figsize=(15,5))\n",
    "axes = fig.add_subplot(1,3,1)\n",
    "axes.plot(x,func(x),linewidth=3)\n",
    "axes.plot(x_samp, f_samp, 'ro')\n",
    "axes.plot(x_interval, f_samp*numpy.ones(x_interval.shape), 'k--')\n",
    "axes.plot(x0*numpy.ones(2), [0., f_samp[0]],'k--')\n",
    "axes.plot(x1*numpy.ones(2), [0., f_samp[0]],'k--')\n",
    "axes.plot(x0*numpy.ones(2), [0., func(x0)],'b')\n",
    "axes.plot(x1*numpy.ones(2), [0., func(x1)],'b')\n",
    "axes.plot(x, numpy.zeros(x.shape),'k')\n",
    "axes.text(x0-.02,-.2,'$x_i$',fontsize=16)\n",
    "axes.text(x1-.02,-.2,'$x_{i+1}$',fontsize=16)\n",
    "axes.set_title('Midpoint Rule',fontsize=16)\n",
    "axes.set_xlabel('x', fontsize=16)\n",
    "axes.set_ylabel('f(x)', fontsize=16)\n",
    "axes.set_ylim((-0.25, 2.))\n",
    "axes.fill_between(x_interval,0.,func(x_interval))\n",
    "axes.fill_between(x_interval, 0, f_samp*numpy.ones(x_interval.shape), hatch='/', alpha=0)\n",
    "axes.grid()\n",
    "\n",
    "axes = fig.add_subplot(1,3,2)\n",
    "x_samp = numpy.array([x0, x1])\n",
    "f_samp = func(x_samp)\n",
    "axes.plot(x,func(x),linewidth=3)\n",
    "axes.plot(x_samp, f_samp, 'ro')\n",
    "axes.plot(x_samp, f_samp, 'k--')\n",
    "axes.plot(x0*numpy.ones(2), [0., f_samp[0]],'k--')\n",
    "axes.plot(x1*numpy.ones(2), [0., f_samp[1]],'k--')\n",
    "axes.plot(x0*numpy.ones(2), [0., func(x0)],'b')\n",
    "axes.plot(x1*numpy.ones(2), [0., func(x1)],'b')\n",
    "axes.plot(x, numpy.zeros(x.shape),'k')\n",
    "axes.text(x0-.02,-.2,'$x_i$',fontsize=16)\n",
    "axes.text(x1-.02,-.2,'$x_{i+1}$',fontsize=16)\n",
    "axes.set_title('Trapezoidal Rule',fontsize=16)\n",
    "axes.set_xlabel('x', fontsize=16)\n",
    "axes.set_ylabel('f(x)', fontsize=16)\n",
    "axes.set_ylim((-0.25, 2.))\n",
    "axes.fill_between(x_interval,0.,func(x_interval))\n",
    "axes.fill_between(x_samp,0.,f_samp, hatch='/', alpha=0)\n",
    "\n",
    "\n",
    "axes.grid()\n",
    "\n",
    "axes = fig.add_subplot(1,3,3)\n",
    "x_samp = numpy.array([x0, (x0 + x1)/2., x1])\n",
    "f_samp = func(x_samp)\n",
    "p = numpy.polyfit(x_samp, f_samp, 2)\n",
    "f_p2 = numpy.polyval(p, x_interval)\n",
    "axes.plot(x,func(x),linewidth=3)\n",
    "axes.plot(x_samp, f_samp, 'ro')\n",
    "axes.plot(x_interval, f_p2, 'k--')\n",
    "axes.plot(x0*numpy.ones(2), [0., f_samp[0]],'k--')\n",
    "axes.plot(x1*numpy.ones(2), [0., f_samp[-1]],'k--')\n",
    "axes.plot(x0*numpy.ones(2), [0., func(x0)],'b')\n",
    "axes.plot(x1*numpy.ones(2), [0., func(x1)],'b')\n",
    "axes.plot(x, numpy.zeros(x.shape),'k')\n",
    "axes.text(x0-.02,-.2,'$x_i$',fontsize=16)\n",
    "axes.text(x1-.02,-.2,'$x_{i+1}$',fontsize=16)\n",
    "axes.set_title('Simpsons Rule',fontsize=16)\n",
    "axes.set_xlabel('x', fontsize=16)\n",
    "axes.set_ylabel('f(x)', fontsize=16)\n",
    "axes.set_ylim((-0.25, 2.))\n",
    "axes.fill_between(x_interval,0.,func(x_interval))\n",
    "axes.fill_between(x_interval,0.,f_p2, hatch='/', alpha=0)\n",
    "\n",
    "\n",
    "axes.grid()\n",
    "plt.show()"
   ]
  },
  {
   "cell_type": "markdown",
   "metadata": {
    "hide_input": false,
    "slideshow": {
     "slide_type": "subslide"
    }
   },
   "source": [
    "##### Example 1:\n",
    "\n",
    "Given $f(x) = \\sin \\pi x$. Let's consider the relative accuracy of midpoint, trapezoidal and simpson's rules for a single interval $x\\in[0,1]$.\n",
    "\n",
    "$$\\begin{aligned}\n",
    "    \\text{Exact:}  &I[f] = \\int^1_0 \\sin \\pi x = \\left . \\frac{-\\cos \\pi x}{\\pi} \\right |^1_0 = \\frac{2}{\\pi} \\approx 0.636619772 \\\\\n",
    "    \\text{Midpoint:}  &I_M[f] = \\Delta x f(1/2) = \\sin (\\pi / 2) = 1 \\\\\n",
    "    \\text{Trapezoid:}  &I_T[f] = \\frac{\\Delta x}{2} (\\sin(0) + \\sin(\\pi)) = 0 \\\\\n",
    "    \\text{Simpson's:}  &I_S[f] = \\frac{\\Delta x}{6} \\sin(0) + \\frac{2 \\Delta x}{3} \\sin(\\pi / 2) + \\frac{\\Delta x}{6} \\sin(\\pi) = \\frac{2 \\Delta x}{3} = \\frac{2}{3}\n",
    "\\end{aligned}$$"
   ]
  },
  {
   "cell_type": "markdown",
   "metadata": {
    "slideshow": {
     "slide_type": "fragment"
    }
   },
   "source": [
    "##### Calculate the relative error for each of these estimates"
   ]
  },
  {
   "cell_type": "code",
   "execution_count": 9,
   "metadata": {
    "slideshow": {
     "slide_type": "-"
    }
   },
   "outputs": [
    {
     "data": {
      "text/plain": [
       "0.030046894299085247"
      ]
     },
     "execution_count": 9,
     "metadata": {},
     "output_type": "execute_result"
    }
   ],
   "source": [
    "err=numpy.abs(2/numpy.pi - 2/3)\n",
    "err\n"
   ]
  },
  {
   "cell_type": "markdown",
   "metadata": {
    "slideshow": {
     "slide_type": "subslide"
    }
   },
   "source": [
    "### Error in extended Newton-Cotes formulas\n",
    "\n",
    "To find the total error we must sum the error over all the intervals:\n",
    "\n",
    "$$I[f] = \\sum_{i=0}^N \\int^{x_{i+1}}_{x_i} P_n(x) dx + \\sum_{i=0}^N \\int^{x_{i+1}}_{x_i} R_n(x) dx = I_N[f] + E_N[f]$$\n",
    "\n",
    "as we defined before."
   ]
  },
  {
   "cell_type": "markdown",
   "metadata": {
    "slideshow": {
     "slide_type": "subslide"
    }
   },
   "source": [
    "####  Extended Midpoint (and Trapezoidal) rule error\n",
    "\n",
    "If we sum up across all the intervals the total error for the mid-point rule is\n",
    "\n",
    "$$E_N[f] = -\\frac{\\Delta x^3}{24} \\sum_{i=0}^{N} f''(c_i)$$\n",
    "\n",
    "or noting that $\\Delta x = (b-a)/N$ we can write this a bit more physically as\n",
    "\n",
    "$$E_N[f] = -\\frac{1}{24} \\Delta x^2 (b - a) \\left [ \\frac{1}{N} \\sum^{N-1}_{i=0} f''(c_i) \\right ]$$\n",
    "\n",
    "such that expression in the brackets is the mean value of the second derivative over the interval $[a,b]$.  This also shows that the extended  trapezoidal rule converges quadratically as $\\Delta x \\rightarrow 0$ (or $N\\rightarrow\\infty$)."
   ]
  },
  {
   "cell_type": "markdown",
   "metadata": {
    "hide_input": true,
    "slideshow": {
     "slide_type": "subslide"
    }
   },
   "source": [
    "In general, for $N$ panels of any given Newton-Cotes  quadrature formula over the interval $x\\in[a,b]$, the approximate integral and error formulas are\n",
    "\n",
    "\\begin{align}\n",
    "I[f] &= \\sum_{i=0}^N I_t + E_N\\\\\n",
    "\\end{align}\n",
    "where \n",
    "$$\n",
    "    E_N = (b-a)O(\\Delta x^p f^{m}(c))\n",
    "$$"
   ]
  },
  {
   "cell_type": "markdown",
   "metadata": {
    "slideshow": {
     "slide_type": "fragment"
    }
   },
   "source": [
    "* Extended Mid-point: \n",
    "$$\n",
    "    E_{N_M} = (b-a) O(\\Delta x^2 f'')\n",
    "$$\n",
    "* Extended Trapezoidal Rule: \n",
    "$$\n",
    "    E_{N_T} = (b-a) O(\\Delta x^2 f'')\n",
    "$$\n",
    "* Extended Simpson: \n",
    "$$\n",
    "    E_{N_S} = (b-a) O(\\Delta x^4 f^{(iv)})\n",
    "$$\n",
    "\n",
    "Where $\\Delta x = \\frac{b -a }{N}$"
   ]
  },
  {
   "cell_type": "markdown",
   "metadata": {
    "hide_input": true,
    "slideshow": {
     "slide_type": "subslide"
    }
   },
   "source": [
    "#### Convergence of Extended N-C quadrature\n",
    "\n",
    "Here we plot the relative error for various extended Newton-Cotes quadrature formulas for the test case\n",
    "\n",
    "$$\n",
    "    I = \\int_0^1 \\sin(\\pi x) dx = \\frac{2}{\\pi}\n",
    "$$"
   ]
  },
  {
   "cell_type": "code",
   "execution_count": 10,
   "metadata": {
    "hide_input": true,
    "slideshow": {
     "slide_type": "-"
    }
   },
   "outputs": [
    {
     "data": {
      "image/png": "[encoded data removed]",
      "text/plain": [
       "<Figure size 576x432 with 1 Axes>"
      ]
     },
     "metadata": {
      "needs_background": "light"
     },
     "output_type": "display_data"
    }
   ],
   "source": [
    "# Compute the error as a function of delta_x for each method\n",
    "f = lambda x: numpy.sin(numpy.pi * x)\n",
    "\n",
    "num_partitions = numpy.array([ 2**n for n in range(0, 16)])\n",
    "delta_x = numpy.empty(len(num_partitions))\n",
    "error_mid = numpy.empty(len(num_partitions))\n",
    "error_trap = numpy.empty(len(num_partitions))\n",
    "error_simpson = numpy.empty(len(num_partitions))\n",
    "\n",
    "I_true = 2.0/numpy.pi\n",
    "\n",
    "for (j, N) in enumerate(num_partitions):\n",
    "    x_hat = numpy.linspace(0.0, 1.0, N + 1)\n",
    "    delta_x[j] = x_hat[1] - x_hat[0]\n",
    "\n",
    "    # Compute Midpoint\n",
    "    x_star = 0.5 * (x_hat[1:] + x_hat[:-1])\n",
    "    I_hat = 0.0\n",
    "    for i in range(0, N):\n",
    "        I_hat += f(x_star[i]) * delta_x[j]\n",
    "    error_mid[j] = numpy.abs(I_hat - I_true)/I_true\n",
    "    \n",
    "    # Compute trapezoid\n",
    "    I_hat = 0.0\n",
    "    for i in range(1, N):\n",
    "        I_hat += (f(x_hat[i + 1]) + f(x_hat[i])) * delta_x[j] / 2.0\n",
    "    error_trap[j] = numpy.abs(I_hat - I_true)/I_true\n",
    "    \n",
    "    # Compute simpson's    \n",
    "    I_hat = 0.0\n",
    "    for i in range(0, N):\n",
    "        I_hat += delta_x[j] * (1.0 / 6.0 * (f(x_hat[i]) + f(x_hat[i+1])) + 2.0 / 3.0 * f(x_hat[i] + delta_x[j] / 2.0))\n",
    "    error_simpson[j] = numpy.abs(I_hat - I_true)/I_true\n",
    "\n",
    "fig = plt.figure(figsize=(8,6))\n",
    "axes = fig.add_subplot(1, 1, 1)\n",
    "\n",
    "order_C = lambda delta_x, error, order: numpy.exp(numpy.log(error) - order * numpy.log(delta_x))\n",
    "axes.loglog(delta_x, error_mid, 'ro', label=\"Midpoint\")\n",
    "axes.loglog(delta_x, error_trap, 'bo', label=\"Trapezoid\")\n",
    "axes.loglog(delta_x, error_simpson, 'go', label=\"Simpson's\")\n",
    "axes.loglog(delta_x, order_C(delta_x[0], error_trap[0], 2.0) * delta_x**2.0, 'b--', label=\"2nd Order\")\n",
    "axes.loglog(delta_x, order_C(delta_x[0], error_simpson[0], 4.0) * delta_x**4.0, 'g--', label=\"4th Order\")\n",
    "axes.legend(loc='best')\n",
    "axes.set_xlabel('$\\Delta x$', fontsize=16)\n",
    "axes.set_ylabel('Relative Error', fontsize=16)\n",
    "axes.grid()\n",
    "\n",
    "plt.show()"
   ]
  },
  {
   "cell_type": "markdown",
   "metadata": {
    "slideshow": {
     "slide_type": "skip"
    }
   },
   "source": [
    "### Recursive Improvement of Accuracy\n",
    "\n",
    "Say we ran the extended trapezoidal rule with step size $2 \\Delta x$, we then will have\n",
    "\n",
    "$$\\begin{aligned}\n",
    "\t\t\t\\int^{x_2}_{x_0} f(x) dx  &= \\frac{2 \\Delta x}{2} (f_0 + f_2) =  h (f_0 + f_2) \\Rightarrow \\\\\n",
    "\t\t\t\\int^b_a f(x)dx &\\approx I_{2\\Delta x}[f] = \\sum^{N/2-1}_{j=0} \\Delta x (f_{2j} + f_{2j+2}) \\\\\n",
    "\t\t\t&= \\Delta x (f_{0} + f_{2})  + \\Delta x (f_{2} + f_{4})  + \\cdots + \\Delta x (f_{N-2} + f_{N}) \\\\\n",
    "\t\t\t&= \\Delta x\\left ( f_0 + f_N +  2 \\sum^{N/2-1}_{j=1} f_{2j} \\right )\n",
    "  \\end{aligned}\n",
    "$$"
   ]
  },
  {
   "cell_type": "markdown",
   "metadata": {
    "slideshow": {
     "slide_type": "skip"
    }
   },
   "source": [
    "Now compare the two rules for $\\Delta x$ and $2 \\Delta x$:\n",
    "\n",
    "$$\\begin{align}I_{\\Delta x}[f] &= \\frac{\\Delta x}{2} \\left (f_0 + f_N + 2 \\sum^{N-1}_{j=1} f_j \\right)\\\\ I_{2 \\Delta x}[f] &= \\Delta x \\left ( f_0 + f_N +  2 \\sum^{N/2-1}_{j=1} f_{2j} \\right )\\end{align}$$\n",
    "\n",
    "$$I_{\\Delta x}[f] = \\frac{1}{2} I_{2\\Delta x} + \\Delta x(f_1 + f_3 + \\cdots + f_{N-1})$$\n",
    "\n",
    "Here we see we can actually reuse the work we did to calculate $Q_{2 \\Delta x}[f]$ to refine the integral."
   ]
  },
  {
   "cell_type": "markdown",
   "metadata": {
    "slideshow": {
     "slide_type": "subslide"
    }
   },
   "source": [
    "### Arbitrary Intervals (Affine Transforms)\n",
    "\n",
    "A lot of quadrature rules are defined on specific intervals, e.g $x\\in[0,1]$ or $x\\in[-1,1]$.  However any two intervals can always be mapped onto each other through an  *affine transform* or *affine map* which is a linear  transformation.\n",
    "\n",
    "$$\n",
    "    x = \\alpha\\xi + \\beta\n",
    "$$\n",
    "where $\\alpha$ is a scaling and $\\beta$ is a shift.  \n",
    "\n",
    "Given $\\alpha$ and $\\beta$,  the inverse map is simply\n",
    "\n",
    "$$\n",
    "    \\xi = \\frac{x - \\beta}{\\alpha}\n",
    "$$"
   ]
  },
  {
   "cell_type": "markdown",
   "metadata": {
    "slideshow": {
     "slide_type": "subslide"
    }
   },
   "source": [
    "### Example:  \n",
    "\n",
    "Map $ x \\in [a,b]\\rightarrow\\xi \\in [-1,1]$"
   ]
  },
  {
   "cell_type": "code",
   "execution_count": 26,
   "metadata": {
    "hide_input": true,
    "slideshow": {
     "slide_type": "-"
    }
   },
   "outputs": [
    {
     "data": {
      "image/png": "[encoded data removed]",
      "text/plain": [
       "<Figure size 360x360 with 1 Axes>"
      ]
     },
     "metadata": {
      "needs_background": "light"
     },
     "output_type": "display_data"
    }
   ],
   "source": [
    "fig = plt.figure(figsize=(5,5))\n",
    "axes = fig.add_subplot(1,1,1)\n",
    "axes.plot(x,func(x),linewidth=3)\n",
    "axes.fill_between(x_interval,0.,func(x_interval))\n",
    "axes.plot(x, numpy.zeros(x.shape),'k')\n",
    "axes.text(x0-.02,-.2,'$a$',fontsize=16)\n",
    "axes.text((x0+x1)/2.-.02,-.2,'$x$',fontsize=16)\n",
    "axes.text(x1-.02,-.2,'$b$',fontsize=16)\n",
    "axes.set_xlabel('x', fontsize=16)\n",
    "axes.set_ylabel('f(x)', fontsize=16)\n",
    "axes.text(x0-.06,-.4,'$-1$',fontsize=16)\n",
    "axes.text((x0+x1)/2.-.02,-.4,'$\\\\xi$',fontsize=16)\n",
    "axes.text(x1-.02,-.4,'$1$',fontsize=16)\n",
    "axes.set_ylim((-0.5, 2.))\n",
    "axes.grid()\n"
   ]
  },
  {
   "cell_type": "markdown",
   "metadata": {
    "hide_input": false,
    "slideshow": {
     "slide_type": "fragment"
    }
   },
   "source": [
    "$$x =  \\frac{b - a}{2}\\xi + \\frac{a+b}{2}$$\n",
    "\n",
    "$$\\xi = \\left( x - \\frac{a + b}{2}\\right) \\frac{2}{b-a}$$"
   ]
  },
  {
   "cell_type": "markdown",
   "metadata": {
    "slideshow": {
     "slide_type": "subslide"
    }
   },
   "source": [
    "Given an Affine mapping,  it is easy to transform any integral from one coordinate system to another\n",
    "\n",
    "$$\n",
    "    I[f] = \\int^b_a f(x) dx = \\int^1_{-1} f(x(\\xi)) \\frac{dx}{d\\xi} d\\xi = \\frac{b - a}{2} \\int^1_{-1} f(x(\\xi)) d\\xi\\\\\n",
    "$$"
   ]
  },
  {
   "cell_type": "markdown",
   "metadata": {
    "slideshow": {
     "slide_type": "fragment"
    }
   },
   "source": [
    "and the $N$ point quadrature rule for a single interval is\n",
    "$$\n",
    "    I_n[f]_i = \\frac{\\Delta x_i}{2} \\sum_{j=1}^{n} w_j f(x(\\xi_j))\n",
    "$$"
   ]
  },
  {
   "cell_type": "markdown",
   "metadata": {
    "slideshow": {
     "slide_type": "fragment"
    }
   },
   "source": [
    "and the cumulative integral over $M$ panels\n",
    "$$\n",
    "    I_N[f] = \\sum_{i=1}^M I_n[f]_i\n",
    "$$"
   ]
  },
  {
   "cell_type": "markdown",
   "metadata": {
    "hide_input": true,
    "slideshow": {
     "slide_type": "subslide"
    }
   },
   "source": [
    "#### Example:  Newton-Cotes Rules\n",
    "\n",
    "We can rewrite our previous quadrature rules so that they are given on the interval $\\xi \\in [-1, 1]$ instead of $x \\in [x_i, x_{i+1}]$.  Recall that a general quadrature rule can be written as\n",
    "$$\n",
    "    \\sum^N_{i=1} w_i f(\\xi_i)\n",
    "$$\n",
    "where $w_i$ are the weights and $\\xi_i$ are the points specified to evaluate the function at. "
   ]
  },
  {
   "cell_type": "markdown",
   "metadata": {
    "slideshow": {
     "slide_type": "subslide"
    }
   },
   "source": [
    " For Newton-Cotes rules we know that the points $\\xi_i$ are uniformly distributed on $[-1, 1]$ but we still need to define the weights.  For a 2-Point trapezoid rule we can do this to find that\n",
    "$$\n",
    "    \\int^1_{-1} f(x) dx \\approx f(-1) + f(1)\n",
    "$$\n",
    "so the quadrature points are at  $\\xi_0 = [-1, 1]$ with weights $w = [1, 1]$  "
   ]
  },
  {
   "cell_type": "markdown",
   "metadata": {
    "slideshow": {
     "slide_type": "fragment"
    }
   },
   "source": [
    "Note that if we map this using our affine transform we would get back the original trapezoid rule:\n",
    "$$\n",
    "    I_2[f] = \\frac{dx}{d\\xi}\\sum_{n=1}^{2} w_n f(x(\\xi_n))  = \\frac{\\Delta x}{2}\\left(f(x(-1)) + f(x(1))\\right) \n",
    "$$"
   ]
  },
  {
   "cell_type": "markdown",
   "metadata": {
    "slideshow": {
     "slide_type": "fragment"
    }
   },
   "source": [
    "Similarly for Simpson's rule we have\n",
    "$$\n",
    "    \\xi = [-1, 0, 1] \\quad \\text{and} \\quad w = \\left[\\frac{1}{3}, \\frac{4}{3}, \\frac{1}{3} \\right].\n",
    "$$"
   ]
  },
  {
   "cell_type": "code",
   "execution_count": 13,
   "metadata": {
    "slideshow": {
     "slide_type": "slide"
    }
   },
   "outputs": [],
   "source": [
    "def ncintegration(f, a, b, N):\n",
    "    \"\"\" Approximate \\int_a^b f(x)dx using  Newton-Cotes quadrature rules with N<=3 quadrature points\"\"\"\n",
    "        \n",
    "    assert (N > 0)\n",
    "    assert (N < 4)\n",
    "    # Build up a nested list of integration points and weights for the interval [-1, 1]:\n",
    "    xNC = []\n",
    "    wNC = []\n",
    "    # 1 point Newton-Cotes (Mid-point) \n",
    "    xNC.append(numpy.array([0.]))\n",
    "    wNC.append(numpy.array([2.]))\n",
    "    # 2 point Newton-Cotes quadrature (Trapezoidal)\n",
    "    xNC.append(numpy.array([ -1., 1. ]))\n",
    "    wNC.append(numpy.array([ 1. , 1.]))\n",
    "    # 3 point Newton-Cotes quadrature (Simpson's rule)\n",
    "    xNC.append(numpy.array([-1., 0., 1.]))\n",
    "    wNC.append(numpy.array([1., 4., 1.])/3.)\n",
    "    \n",
    "    # make affine map between x and xi\n",
    "    xi_map = lambda xi: (b - a)/2. * xi + (a + b) / 2.\n",
    "    \n",
    "    I = (b - a)/2. * wNC[N-1].dot(f(xi_map(xNC[N-1])))\n",
    "    return I\n",
    "\n"
   ]
  },
  {
   "cell_type": "code",
   "execution_count": 14,
   "metadata": {
    "slideshow": {
     "slide_type": "subslide"
    }
   },
   "outputs": [
    {
     "name": "stdout",
     "output_type": "stream",
     "text": [
      "1.414213562373095\n"
     ]
    }
   ],
   "source": [
    "f = lambda x: numpy.sin(x)\n",
    "I = lambda x: - numpy.cos(x)\n",
    "\n",
    "a = numpy.pi/4.\n",
    "b = 3*numpy.pi/4.\n",
    "#b = numpy.pi/2\n",
    "I_true = I(b) - I(a)\n",
    "print(I_true)"
   ]
  },
  {
   "cell_type": "code",
   "execution_count": 15,
   "metadata": {
    "hide_input": true,
    "slideshow": {
     "slide_type": "-"
    }
   },
   "outputs": [
    {
     "data": {
      "image/png": "[encoded data removed]",
      "text/plain": [
       "<Figure size 360x360 with 1 Axes>"
      ]
     },
     "metadata": {
      "needs_background": "light"
     },
     "output_type": "display_data"
    }
   ],
   "source": [
    "x = numpy.linspace(0.0, 2.0 * numpy.pi, 100)\n",
    "x_interval = numpy.linspace(a, b, 100)\n",
    "fig = plt.figure(figsize=(5,5))\n",
    "axes = fig.add_subplot(1,1,1)\n",
    "axes.plot(x,f(x),linewidth=3)\n",
    "axes.fill_between(x_interval,0.,f(x_interval))\n",
    "axes.plot(x, numpy.zeros(x.shape),'k')\n",
    "\n",
    "axes.grid()"
   ]
  },
  {
   "cell_type": "code",
   "execution_count": 16,
   "metadata": {
    "slideshow": {
     "slide_type": "subslide"
    }
   },
   "outputs": [
    {
     "name": "stdout",
     "output_type": "stream",
     "text": [
      "N = 1, I_N = 1.5707963267948966, err = 0.11072073453959162\n",
      "N = 2, I_N = 1.1107207345395915, err = 0.21460183660255164\n",
      "N = 3, I_N = 1.4174377960431281, err = 0.002279877492210477\n"
     ]
    }
   ],
   "source": [
    "# Calculate Newton-Cotes Quadrature and relative errors for 1,2, and 3 point NC quadrature schemes\n",
    "for N in range(1,4):\n",
    "    I = ncintegration(f,a,b,N)\n",
    "    err = numpy.abs(I - I_true)/numpy.abs(I_true)\n",
    "    print('N = {}, I_N = {}, err = {}'.format(N, I, err))\n",
    "    "
   ]
  },
  {
   "cell_type": "markdown",
   "metadata": {
    "hide_input": true,
    "slideshow": {
     "slide_type": "slide"
    }
   },
   "source": [
    "## Optimal Quadrature Methods\n",
    "\n",
    "Newton-Cotes formulas assume a fixed, regularly spaced set of quadrature points and calculate quadrature rules based on integrating the interpolating polynomial.  \n",
    "\n",
    "Can we do better?"
   ]
  },
  {
   "cell_type": "markdown",
   "metadata": {
    "slideshow": {
     "slide_type": "fragment"
    }
   },
   "source": [
    "Actually, if we allow both the points and weights to be chosen in an optimal way, we can generate optimal quadrature rules with $N$ points that can exactly integrate polynomials up to order $p=2N-1$"
   ]
  },
  {
   "cell_type": "markdown",
   "metadata": {
    "slideshow": {
     "slide_type": "subslide"
    }
   },
   "source": [
    "### A Naive argument for $p=2N -1$ for an $N$ point quadrature scheme\n",
    "\n",
    "Given an $N$ point quadrature scheme\n",
    "\n",
    "$$\n",
    "    \\int_a^b f(x)dx = \\sum_{i=1}^N w_i f(x_i)\n",
    "$$\n",
    "\n",
    "If we allow both $w_i$ and $x_i$ to be variables there are $2N$ unknowns and we can use the method of undetermined coefficients to generate $2N$ *non-linear* equations that exactly integrate all monomials up to degree $2N-1$.  "
   ]
  },
  {
   "cell_type": "markdown",
   "metadata": {
    "slideshow": {
     "slide_type": "subslide"
    }
   },
   "source": [
    "##### Example 2:  2-Point Gauss-Legendre Quadrature\n",
    "\n",
    "Consider $N=2$ on $x \\in [-1,1]$\n",
    "\n",
    "$$I_2[f] = w_0 f(x_0) + w_1 f(x_1)$$\n",
    "\n",
    "using the method of *undetermined coefficients* we can solve for the four unknowns $w_0, w_1, x_0, x_1$ that exactly integrate the first 4 monomials, $1, x, x^2, x^3$."
   ]
  },
  {
   "cell_type": "markdown",
   "metadata": {
    "slideshow": {
     "slide_type": "subslide"
    }
   },
   "source": [
    "Let $$I[f] = \\int_{-1}^{1} f(x)dx \\quad\\text{and}\\quad I_2[f] = w_0 f(x_0) + w_1 f(x_1)$$\n",
    "\n",
    "Then\n",
    "$$\\begin{aligned}\n",
    "    &I[1] &=  \\int^{1}_{-1} 1 dx = 2 & & I_2[1] &= w_0 + w_1\\\\\n",
    "    &I[x] &=  \\int^{1}_{-1} x dx = 0 & & I_2[x] &= w_0 x_0 + w_1 x_1\\\\\n",
    "    &I[x^2] &=  \\int^{1}_{-1} x^2 dx = \\frac{2}{3} & & I_2[x^2] &= w_0 x_0^2 + w_1 x_1^2\\\\\n",
    "    &I[x^3] &=  \\int^{1}_{-1} x^3 dx = 0 & & I_2[x^3] &= w_0 x_0^3 + w_1 x_1^3\\\\\n",
    "\\end{aligned}$$"
   ]
  },
  {
   "cell_type": "markdown",
   "metadata": {
    "slideshow": {
     "slide_type": "subslide"
    }
   },
   "source": [
    "Or as a system of non-linear equations\n",
    "$$\\begin{aligned}\n",
    "    &w_0 + w_1 = 2\\\\\n",
    "    &w_0 x_0 + w_1 x_1 = 0\\\\\n",
    "    &w_0 x_0^2 + w_1 x_1^2 = \\frac{2}{3}\\\\\n",
    "    &w_0 x_0^3 + w_1 x_1^3 = 0\\\\\n",
    "\\end{aligned}$$\n",
    "\n",
    "Note that we need to solve for 4 unknowns $x_0$, $x_1$, $w_0$, and $w_1$.  If we guess $w_0=w_1$ by symmetry, it will just fall out that $x_0=-x_1$ and \n",
    "\n",
    "$$x_0 = -\\sqrt{\\frac{1}{3}}, x_1 = \\sqrt{\\frac{1}{3}}  $$\n",
    "\n",
    "However, there turns out to be some much deeper math based on orthogonal polynomials that can generate both weights and quadrature points in a much more rigorous and well defined manner."
   ]
  },
  {
   "cell_type": "markdown",
   "metadata": {
    "slideshow": {
     "slide_type": "subslide"
    }
   },
   "source": [
    "#### Quick Check\n",
    "\n",
    "let's check this for $f(x)=x^3 - 3x^2 + 2x -1$\n",
    "\n",
    "$$\n",
    "    I[f] = \\int_{-1}^1 f(x) dx = \\left[ \\frac{x^4}{4} - x^3 +x^2 -x \\right]_{-1}^1\n",
    "$$"
   ]
  },
  {
   "cell_type": "code",
   "execution_count": 31,
   "metadata": {
    "slideshow": {
     "slide_type": "fragment"
    }
   },
   "outputs": [
    {
     "data": {
      "text/plain": [
       "-4.0"
      ]
     },
     "execution_count": 31,
     "metadata": {},
     "output_type": "execute_result"
    }
   ],
   "source": [
    "f = lambda x: x**3 -3*x**2 +2*x -1.\n",
    "If = lambda x: x**4/4 - x**3 + x**2 -x\n",
    "I_true = If(1.) - If(-1.)\n",
    "I_true"
   ]
  },
  {
   "cell_type": "code",
   "execution_count": 33,
   "metadata": {
    "slideshow": {
     "slide_type": "fragment"
    }
   },
   "outputs": [
    {
     "data": {
      "text/plain": [
       "-4.0"
      ]
     },
     "execution_count": 33,
     "metadata": {},
     "output_type": "execute_result"
    }
   ],
   "source": [
    "x = numpy.sqrt(1./3)\n",
    "I_2 = f(-x) + f(x)\n",
    "I_2"
   ]
  },
  {
   "cell_type": "markdown",
   "metadata": {
    "slideshow": {
     "slide_type": "subslide"
    }
   },
   "source": [
    "### Generalized Gaussian Quadrature\n",
    "\n",
    "As it turns out,  both the weights and quadrature points for optimal Gaussian quadrature can be derived from the properties of families of orthogonal polynomials such as Chebyshev or Legendre polynomials.  \n",
    "\n",
    "In general,  all orthogonal polynomials form a family of polynomials of all orders with the property that\n",
    "\n",
    "$$\n",
    "    \\int_a^b \\omega(x)P_m(x)P_n(x) dx = 0 \\quad \\text{for} \\quad m\\neq n\n",
    "$$\n",
    "\n",
    "where $m$, $n$ are the order of the polynomial and $\\omega(x)$ is a weighting function.  We say that that polynomials are orthogonal to each other under a weighted inner product. And because they are orthogonal, they are automatically linearly independent and can form a basis for the space of all polynomials up to degree $n$. "
   ]
  },
  {
   "cell_type": "markdown",
   "metadata": {
    "slideshow": {
     "slide_type": "fragment"
    }
   },
   "source": [
    "Recall something similar for vectors $x,y\\in\\mathbb{R}^n$ with the standard inner product (dot product)\n",
    "$$\n",
    "    <x, y> = \\sum^N_{i=1} x_i y_i = ||x|| \\cdot ||y|| \\cos \\theta.\n",
    "$$\n",
    "If $<x, y> = 0$ then the vectors $x$ and $y$ are orthogonal."
   ]
  },
  {
   "cell_type": "markdown",
   "metadata": {
    "slideshow": {
     "slide_type": "subslide"
    }
   },
   "source": [
    "#### Example:  The Legendre Polynomials\n",
    "\n",
    "The Legendre polynomials form one family that are orthogonal with $\\omega(x)=1$ over the interval $x\\in[-1,1]$.\n",
    "\n",
    "The first few Legendre Polynomials are \n",
    "\\begin{align}\n",
    "    P_0(x) &= 1\\\\\n",
    "    P_1(x) &=x \\\\\n",
    "    P_2(x) &= \\frac{1}{2}(3x^2 -1)\\\\\n",
    "    P_3(x) &= \\frac{1}{2}x(5x^2 - 3)\\\\\n",
    "       \\vdots\n",
    "\\end{align}"
   ]
  },
  {
   "cell_type": "code",
   "execution_count": null,
   "metadata": {
    "hide_input": true,
    "scrolled": true,
    "slideshow": {
     "slide_type": "-"
    }
   },
   "outputs": [],
   "source": [
    "from scipy.special import legendre\n",
    "x = numpy.linspace(-1,1,100)\n",
    "\n",
    "fig = plt.figure(figsize=(8,6))\n",
    "axes = fig.add_subplot(1,1,1)\n",
    "for N in range(5):\n",
    "    Pn = legendre(N)\n",
    "    axes.plot(x, Pn(x), label='N={}'.format(N))\n",
    "\n",
    "axes.grid()\n",
    "axes.set_title('Legendre Polynomials', fontsize=18)\n",
    "axes.set_xlabel('x',fontsize=16)\n",
    "axes.legend(loc='best')\n",
    "plt.show()\n"
   ]
  },
  {
   "cell_type": "markdown",
   "metadata": {
    "slideshow": {
     "slide_type": "subslide"
    }
   },
   "source": [
    "### Big idea\n",
    "\n",
    "Let  $P_N(x)$ be an  orthogonal polynomial of degree $N$ with weighting function $\\omega(x)$ on some interval $x\\in[a,b]$ it follows that\n",
    "\n",
    "$$\n",
    "    \\int^b_{a} \\omega(x) x^i P_N(x) dx = 0 \\quad \\forall i < N,\n",
    "$$\n",
    "\n",
    "i.e.  $P_N(x)$ is *orthogonal* to all monomials $x^i$ ($i <N$) with respect to the weight function $\\omega(x)$. (This follows from the fact that the orthogonal polynomials form a basis and all monomials can be written as a linear combination of $P_m$ for all $m<n$."
   ]
  },
  {
   "cell_type": "markdown",
   "metadata": {
    "slideshow": {
     "slide_type": "subslide"
    }
   },
   "source": [
    "Moreover,  any general polynomial $h(x)$ up to order $p = 2N-1$ can be written as \n",
    "\n",
    "$$\n",
    "    h(x) = q(x)P_N(x) + r(x)\n",
    "$$\n",
    "\n",
    "where $q(x)$ is a quotient polynomial of degree $<N$ and $r(x)$ a remainder polynomial also of order strictly $<N$.  (Remember synthetic division?)"
   ]
  },
  {
   "cell_type": "markdown",
   "metadata": {
    "slideshow": {
     "slide_type": "fragment"
    }
   },
   "source": [
    "#### Example:  $N=2$, $p=2N-1=3$\n",
    "\n",
    "let\n",
    "$$\n",
    "    h(x) = x^3 - 3x^2 + 4x + 2, \\quad P_2 = \\frac{1}{2}(3x^2-1)\n",
    "$$\n",
    "\n",
    "then  \n",
    "\n",
    "$$\n",
    "    h(x) = \\left(\\frac{2}{3}x -2\\right)\\frac{1}{2}(3x^2-1)+ \\left(\\frac{13}{3}x + 1\\right)\n",
    "$$\n",
    "\n",
    "or \n",
    "$$\n",
    "    q(x) = \\left(\\frac{2}{3}x -2\\right),\\quad r(x) = \\left(\\frac{13}{3}x + 1\\right)\n",
    "$$\n",
    "both of which are 1st order polynomials"
   ]
  },
  {
   "cell_type": "markdown",
   "metadata": {
    "slideshow": {
     "slide_type": "subslide"
    }
   },
   "source": [
    "Given\n",
    "\n",
    "$$\n",
    "    h(x) = q(x)P_N(x) + r(x)\n",
    "$$\n",
    "\n",
    "By the properties of $P_N(x)$ it is easy to show two important results\n",
    "\n",
    "$$\n",
    "    \\int_a^b \\omega(x) h(x) dx = \\int_a^b \\omega(x)\\left[q(x)P_N(x) + r(x)\\right]dx = \\int_a^b \\omega(x) r(x) dx\n",
    "$$"
   ]
  },
  {
   "cell_type": "markdown",
   "metadata": {
    "slideshow": {
     "slide_type": "fragment"
    }
   },
   "source": [
    "and given $x_i$ are the $N$ roots of $P_N(x)$\n",
    "\n",
    "$$\n",
    "    \\sum_{i=1}^N w_i h(x_i) = \\sum_{i=1}^N w_i \\left[q(x_i)P_N(x_i) + r(x_i)\\right] = \\sum_{i=1}^N w_i r(x_i)\n",
    "$$"
   ]
  },
  {
   "cell_type": "markdown",
   "metadata": {
    "slideshow": {
     "slide_type": "fragment"
    }
   },
   "source": [
    "Therefore we have a relationship between the weighted integral of $h$ and a discrete quadrature scheme with undetermined weights $w_i$.  All that remains is to find a set of weights that integrate all polynomials up to the order of $r(x)$ exactly. \n",
    "\n",
    "Given that we know the quadrature points $x_i$ as the roots of the Legendre polynomials,  we could compute the weights by the method of undetermined coefficients."
   ]
  },
  {
   "cell_type": "markdown",
   "metadata": {
    "slideshow": {
     "slide_type": "skip"
    }
   },
   "source": [
    "Moreover,  we can use the lagrange basis sampled at the roots of $P_N(x)$ to expand $r(x)$ exactly as \n",
    "\n",
    "$$\n",
    "    r(x) = \\sum_{i=1}^N r(x_i)\\ell_i(x)\n",
    "$$\n",
    "\n",
    "and therefore\n",
    "$$\n",
    "\\begin{align}\n",
    "\\int_a^b \\omega(x) r(x) dx &= \\int_a^b \\omega(x) \\sum_{i=1}^N r(x_i)\\ell_i(x) \\\\\n",
    "            &= \\sum_{i=1}^N r(x_i) \\int_a^b \\omega(x) \\ell_i(x)\\\\\n",
    "            &=  \\sum_{i=1}^N w_i r(x_i)\\\\\n",
    "           \\end{align}\n",
    "$$"
   ]
  },
  {
   "cell_type": "markdown",
   "metadata": {
    "slideshow": {
     "slide_type": "subslide"
    }
   },
   "source": [
    "However, with a bit of work, the weights can can be calculated as functions of $P_n(x)$ (This is the tricky part For a proof and considerably more detail see https://en.wikipedia.org/wiki/Gaussian_quadrature.\n",
    "\n",
    "But given a formula for the weights the general quadrature scheme becomes\n",
    "\n",
    "$$\n",
    "    \\int_a^b \\omega(x) h(x) dx = \\sum_{i=1}^N w_i h(x_i)\n",
    "$$\n",
    "Choosing the correct weighting function and basis leads to a number of useful quadrature approaches:"
   ]
  },
  {
   "cell_type": "markdown",
   "metadata": {
    "slideshow": {
     "slide_type": "subslide"
    }
   },
   "source": [
    "#### Gauss-Legendre Quadrature\n",
    "\n",
    "\n",
    "\n",
    "General Gauss-Legendre quadrature uses $\\omega(x) = 1$ and |the Legendre Polynomials, which can be shown to have weights\n",
    "\n",
    "$$w_i = \\frac{2}{(1-x_i^2)(P'_n(x_i))^2}$$\n",
    "\n",
    "and $x_i$ is the $i$th root of $P_n$.  "
   ]
  },
  {
   "cell_type": "code",
   "execution_count": null,
   "metadata": {
    "hide_input": true,
    "scrolled": true,
    "slideshow": {
     "slide_type": "-"
    }
   },
   "outputs": [],
   "source": [
    "from scipy.special import legendre\n",
    "x = numpy.linspace(-1,1,100)\n",
    "\n",
    "fig = plt.figure(figsize=(8,6))\n",
    "axes = fig.add_subplot(1,1,1)\n",
    "for N in range(5):\n",
    "    Pn = legendre(N)\n",
    "    axes.plot(x, Pn(x), label='N={}'.format(N))\n",
    "\n",
    "axes.grid()\n",
    "axes.set_title('Legendre Polynomials', fontsize=18)\n",
    "axes.set_xlabel('x',fontsize=16)\n",
    "axes.legend(loc='best')\n",
    "plt.show()\n"
   ]
  },
  {
   "cell_type": "markdown",
   "metadata": {
    "slideshow": {
     "slide_type": "subslide"
    }
   },
   "source": [
    "Which lead to the quadrature points and weights...\n",
    "\n",
    "<table width=\"80%\">\n",
    "    <tr align=\"center\"><th>$$N$$</th> <th align=\"center\">$$x_i$$</th> <th align=\"center\"> $$w_i$$ </th></tr>\n",
    "    <tr align=\"center\"><td>$$1$$</td>           <td> $$0$$ </td> <td> $$2$$ </td> </tr>\n",
    "    <tr align=\"center\"><td>$$2$$</td>           <td> $$\\pm \\sqrt{\\frac{1}{3}}$$ </td> <td> $$1$$ </td> </tr>\n",
    "    <tr align=\"center\"><td rowspan=2>$$3$$</td> <td> $$0$$ </td> <td> $$8/9$$ </td> </tr>\n",
    "    <tr align=\"center\">                     <td> $$\\pm \\sqrt{\\frac{3}{5}}$$ </td> <td> $$5/9$$</td> </tr>\n",
    "    <tr align=\"center\"><td rowspan=2>$$4$$</td> <td> $$\\pm \\sqrt{\\frac{3}{7} - \\frac{2}{7} \\sqrt{\\frac{6}{5}}}$$</td> <td> $$\\frac{18 + \\sqrt{30}}{36}$$ </td> </tr>\n",
    "    <tr align=\"center\">                     <td> $$\\pm \\sqrt{\\frac{3}{7} + \\frac{2}{7} \\sqrt{\\frac{6}{5}}}$$</td> <td>$$\\frac{18 - \\sqrt{30}}{36}$$ </td> </tr>\n",
    "    <tr align=\"center\"><td rowspan=3>$$5$$</td> <td> $$0$$ </td> <td> $$\\frac{128}{225}$$ </td> </tr>\n",
    "    <tr align=\"center\">                     <td> $$\\pm \\frac{1}{3} \\sqrt{5 - 2 \\sqrt{\\frac{10}{7}}}$$</td> <td> $$\\frac{322 + 13\\sqrt{70}}{900}$$</td> </tr>\n",
    "    <tr align=\"center\">                     <td> $$\\pm \\frac{1}{3} \\sqrt{5 + 2 \\sqrt{\\frac{10}{7}}}$$</td> <td> $$\\frac{322 - 13\\sqrt{70}}{900}$$</td> </tr>\n",
    "</table>"
   ]
  },
  {
   "cell_type": "markdown",
   "metadata": {
    "slideshow": {
     "slide_type": "subslide"
    }
   },
   "source": [
    "Note the weights and quadrature points for the 2-Point Gauss-Legendre quadrature and compare to what we found by undetermined coefficients."
   ]
  },
  {
   "cell_type": "markdown",
   "metadata": {
    "slideshow": {
     "slide_type": "fragment"
    }
   },
   "source": [
    "Again, all of the weights and quadrature points are defined on the interval $x\\in[-1, 1]$ however these can be transferred to any arbitrary interval by an affine transformation. "
   ]
  },
  {
   "cell_type": "code",
   "execution_count": null,
   "metadata": {
    "slideshow": {
     "slide_type": "subslide"
    }
   },
   "outputs": [],
   "source": [
    "def glintegration(f, a, b, N):\n",
    "    \"\"\" Approximate \\int_a^b f(x)dx using  Gauss-Legendre quadrature rules with N<=4 quadrature points\"\"\"\n",
    "        \n",
    "    # Build up a nested list of gauss points and weights:\n",
    "    xGl = []\n",
    "    wGl = []\n",
    "    # 1 point Gauss-legendre quadrature\n",
    "    xGl.append(numpy.array([0.]))\n",
    "    wGl.append(numpy.array([2.]))\n",
    "    # 2 point Gauss-legendre quadrature\n",
    "    xGl.append(numpy.array([ -1./numpy.sqrt(3.), 1./numpy.sqrt(3)]))\n",
    "    wGl.append(numpy.array([ 1. , 1.]))\n",
    "    # 3 point Gauss-legendre quadrature\n",
    "    xGl.append(numpy.array([-numpy.sqrt(3. /5.), 0., numpy.sqrt(3. / 5.)]))\n",
    "    wGl.append(numpy.array([5., 8., 5.])/9.)\n",
    "    # 4 point Gauss-Legendre quadrature\n",
    "    xGl.append(numpy.array([-numpy.sqrt(3.0 / 7.0 - 2.0 / 7.0 * numpy.sqrt(6.0 / 5.0)), \n",
    "           numpy.sqrt(3.0 / 7.0 - 2.0 / 7.0 * numpy.sqrt(6.0 / 5.0)),\n",
    "          -numpy.sqrt(3.0 / 7.0 + 2.0 / 7.0 * numpy.sqrt(6.0 / 5.0)),\n",
    "           numpy.sqrt(3.0 / 7.0 + 2.0 / 7.0 * numpy.sqrt(6.0 / 5.0))]))                 \n",
    "    wGl.append(numpy.array([(18.0 + numpy.sqrt(30.0)) / 36.0, (18.0 + numpy.sqrt(30.0)) / 36.0,\n",
    "         (18.0 - numpy.sqrt(30.0)) / 36.0, (18.0 - numpy.sqrt(30.0)) / 36.0]))\n",
    "    \n",
    "    # make affine map between x and xi\n",
    "    xi_map = lambda xi: (b - a)/2. * xi + (a + b) / 2.\n",
    "    \n",
    "    I = (b - a)/2. * (wGl[N-1].dot(f(xi_map(xGl[N-1]))))\n",
    "    return I\n",
    "\n"
   ]
  },
  {
   "cell_type": "markdown",
   "metadata": {
    "slideshow": {
     "slide_type": "subslide"
    }
   },
   "source": [
    "##### Example: Gauss-Legendre Quadrature single interval\n",
    "\n",
    "let $f(x) = \\cos(x)$:\n",
    "\n",
    "$$\n",
    "    I[f] = \\int_0^{\\pi/2} f(x) dx = \\left.\\sin(x)\\right|_0^{\\pi/2} = 1.\n",
    "$$\n",
    "\n",
    "so the affine map from $x\\in[0,\\pi/2]\\rightarrow\\xi\\in[-1,1]$ is\n",
    "\n",
    "\\begin{align}\n",
    "x &= \\frac{\\pi}{4}\\xi + \\frac{\\pi}{4} \\\\\n",
    "&= \\frac{\\pi}{4}\\left(\\xi + 1\\right)\n",
    "\\end{align}"
   ]
  },
  {
   "cell_type": "code",
   "execution_count": null,
   "metadata": {
    "hide_input": false,
    "slideshow": {
     "slide_type": "-"
    }
   },
   "outputs": [],
   "source": [
    "f = lambda x: numpy.cos(x)\n",
    "I = 1.\n",
    "x_interval = numpy.linspace(0., numpy.pi/2, 100)"
   ]
  },
  {
   "cell_type": "code",
   "execution_count": null,
   "metadata": {
    "hide_input": true,
    "slideshow": {
     "slide_type": "skip"
    }
   },
   "outputs": [],
   "source": [
    "x = numpy.linspace(-1.,2, 100)\n",
    "fig = plt.figure(figsize=(5,5))\n",
    "axes = fig.add_subplot(1,1,1)\n",
    "axes.plot(x,f(x),linewidth=3)\n",
    "axes.fill_between(x_interval,0.,f(x_interval))\n",
    "axes.plot(x, numpy.zeros(x.shape),'k')\n",
    "\n",
    "axes.grid()\n",
    "plt.show()"
   ]
  },
  {
   "cell_type": "code",
   "execution_count": null,
   "metadata": {
    "hide_input": false,
    "slideshow": {
     "slide_type": "subslide"
    }
   },
   "outputs": [],
   "source": [
    "a = 0.\n",
    "b = numpy.pi/2\n",
    "I_true = 1.\n",
    "err = numpy.zeros(4)\n",
    "print('Gauss-Legendre N-point quadrature formulas\\n')\n",
    "for N in range(1,5):\n",
    "    I = glintegration(f, a, b, N)\n",
    "    err[N-1] = numpy.abs(I_true - I)\n",
    "    print('N = {}, I = {}, err = {}'.format(N,I, err[N-1]))"
   ]
  },
  {
   "cell_type": "code",
   "execution_count": null,
   "metadata": {
    "hide_input": false,
    "slideshow": {
     "slide_type": "fragment"
    }
   },
   "outputs": [],
   "source": [
    "errNC = numpy.zeros(4)\n",
    "print('Newton-Cotes N-point quadrature formulas\\n')\n",
    "for N in range(1,4):\n",
    "    I = ncintegration(f, a, b, N)\n",
    "    errNC[N-1] = numpy.abs(I_true - I)\n",
    "    print('N = {}, I = {}, err = {}'.format(N,I, errNC[N-1]))"
   ]
  },
  {
   "cell_type": "code",
   "execution_count": null,
   "metadata": {
    "hide_input": true,
    "slideshow": {
     "slide_type": "fragment"
    }
   },
   "outputs": [],
   "source": [
    "    \n",
    "fig = plt.figure(figsize=(8, 6))\n",
    "axes = fig.add_subplot(1, 1, 1)\n",
    "axes.semilogy(range(1,5),errNC,'bs', markersize=10, label='Newton-Cotes')\n",
    "axes.semilogy(range(1,5),err,'ro', markersize=10, label='Gauss-Legendre')\n",
    "axes.set_ylabel('Error')\n",
    "axes.set_xlabel('quadrature points (N)')\n",
    "axes.legend(loc='best')\n",
    "axes.grid()\n",
    "plt.show()"
   ]
  },
  {
   "cell_type": "markdown",
   "metadata": {
    "slideshow": {
     "slide_type": "subslide"
    }
   },
   "source": [
    "### Check polynomial degree \n",
    "\n",
    "by integrating arbitrary polynomials of given order"
   ]
  },
  {
   "cell_type": "code",
   "execution_count": null,
   "metadata": {
    "slideshow": {
     "slide_type": "-"
    }
   },
   "outputs": [],
   "source": [
    "# 3rd order polynomial\n",
    "f = lambda x: - 4*x**3 - 3.*x**2 + 2.*x +300.\n",
    "int_f = lambda x:  - x**4 - x**3. + x**2 + x*300.\n",
    "\n",
    "# 5th order polynomial\n",
    "#f = lambda x: x**5 - 4*x**3 - 3.*x**2 + 2.*x +300.\n",
    "#int_f = lambda x: x**6/6. - x**4 - x**3. + x**2 + x*300.\n",
    "\n",
    "a = 1.\n",
    "b = 4.\n",
    "I_true = int_f(b) - int_f(a)\n",
    "print('I_true = {}'.format(I_true))\n",
    "for N in range(1,5):\n",
    "    I = glintegration(f, a, b, N)\n",
    "    err = numpy.abs(I - I_true)/numpy.abs(I_true)\n",
    "    print('N = {}, I = {:5.6g}, rel_err = {} '.format(N,I,err))"
   ]
  },
  {
   "cell_type": "code",
   "execution_count": null,
   "metadata": {
    "hide_input": true,
    "slideshow": {
     "slide_type": "skip"
    }
   },
   "outputs": [],
   "source": [
    "x = numpy.linspace(a - 1, b + 1, 100)\n",
    "x_interval = numpy.linspace(a, b, 100)\n",
    "fig = plt.figure(figsize=(8,6))\n",
    "axes = fig.add_subplot(1,1,1)\n",
    "axes.plot(x,f(x),linewidth=3)\n",
    "axes.fill_between(x_interval,0.,f(x_interval))\n",
    "axes.plot(x, numpy.zeros(x.shape),'k')\n",
    "\n",
    "axes.grid()\n",
    "plt.show()"
   ]
  },
  {
   "cell_type": "markdown",
   "metadata": {
    "slideshow": {
     "slide_type": "subslide"
    }
   },
   "source": [
    "##### Example 3:\n",
    "\n",
    "If $f(x) = e^x$ look at the relative accuracy of midpoint, trapezoidal, Simpson's and 2-point Gauss-Legendre quadrature for a single interval $x \\in [-1,1]$.\n",
    "\n",
    "$$\\begin{aligned}\n",
    "    \\text{Exact:} &I[f] = \\int^1_{-1} e^x = \\left . e^x \\right |^1_{-1} = e - \\frac{1}{e} \\approx 2.350402387 \\\\\n",
    "    \\text{Midpoint:} &I_2[f] = 2 e^0 = 2 \\\\\n",
    "    \\text{Trapezoid:} &I_2[f] = \\frac{2}{2} (e^{-1} + e^1) = e + \\frac{1}{e} = 3.08616127 \\\\\n",
    "    \\text{Simpson's:} &I_2[f] = \\frac{2}{6} e^{-1} + \\frac{4}{3} e^0 + \\frac{2}{6} e^1 = \\frac{4}{3} + \\frac{1}{3} (e^{-1} + e^1) \\approx 2.362053757 \\\\\n",
    "    \\text{Gauss-Legendre:} &I_2[f] = e^{-\\sqrt{\\frac{1}{3}}} + e^{\\sqrt{\\frac{1}{3}}} \\approx 2.342696088\n",
    "\\end{aligned}$$"
   ]
  },
  {
   "cell_type": "code",
   "execution_count": 34,
   "metadata": {
    "hide_input": true,
    "slideshow": {
     "slide_type": "subslide"
    }
   },
   "outputs": [
    {
     "data": {
      "image/png": "[encoded data removed]",
      "text/plain": [
       "<Figure size 576x432 with 1 Axes>"
      ]
     },
     "metadata": {
      "needs_background": "light"
     },
     "output_type": "display_data"
    }
   ],
   "source": [
    "# Compute the error as a function of delta_x for each method\n",
    "f = lambda x: numpy.sin(numpy.pi * x)\n",
    "I = 2.0 / numpy.pi\n",
    "\n",
    "# num_partitions = range(50, 1000, 50)\n",
    "num_partitions = range(5, 50, 5)\n",
    "delta_x = numpy.empty(len(num_partitions))\n",
    "error_trap = numpy.empty(len(num_partitions))\n",
    "error_simpson = numpy.empty(len(num_partitions))\n",
    "error_2 = numpy.empty(len(num_partitions))\n",
    "error_3 = numpy.empty(len(num_partitions))\n",
    "error_4 = numpy.empty(len(num_partitions))\n",
    "\n",
    "for (j, N) in enumerate(num_partitions):\n",
    "    x_hat = numpy.linspace(0.0, 1.0, N)\n",
    "    delta_x[j] = x_hat[1] - x_hat[0]\n",
    "    \n",
    "    # Compute trapezoid\n",
    "    I_hat = 0.0\n",
    "    for i in range(0, N - 1):\n",
    "        I_hat += (f(x_hat[i + 1]) + f(x_hat[i])) * delta_x[j] / 2.0\n",
    "    error_trap[j] = numpy.abs(I_hat - I)\n",
    "    \n",
    "    # Compute simpson's    \n",
    "    I_hat = 0.0\n",
    "    for i in range(0, N - 1):\n",
    "        I_hat += delta_x[j] * (1.0 / 6.0 * (f(x_hat[i]) + f(x_hat[i+1])) + 2.0 / 3.0 * f(x_hat[i] + delta_x[j] / 2.0))\n",
    "    error_simpson[j] = numpy.abs(I_hat - I)\n",
    "    \n",
    "    # Compute Gauss-Legendre 2-point\n",
    "    xi_map = lambda a,b,xi : (b - a) / 2.0 * xi + (a + b) / 2.0\n",
    "    xi = [-numpy.sqrt(1.0 / 3.0), numpy.sqrt(1.0 / 3.0)]\n",
    "    w = [1.0, 1.0]\n",
    "    I_hat = 0.0\n",
    "    for i in range(0, N - 1):\n",
    "        for k in range(len(xi)):\n",
    "            I_hat += f(xi_map(x_hat[i], x_hat[i+1], xi[k])) * w[k]\n",
    "    I_hat *= delta_x[j] / 2.0\n",
    "    error_2[j] = numpy.abs(I_hat - I)\n",
    "    \n",
    "    # Compute Gauss-Legendre 3-point\n",
    "    xi_map = lambda a,b,xi : (b - a) / 2.0 * xi + (a + b) / 2.0\n",
    "    xi = [-numpy.sqrt(3.0 / 5.0), 0.0, numpy.sqrt(3.0 / 5.0)]\n",
    "    w = [5.0 / 9.0, 8.0 / 9.0, 5.0 / 9.0]\n",
    "    I_hat = 0.0\n",
    "    for i in range(0, N - 1):\n",
    "        for k in range(len(xi)):\n",
    "            I_hat += f(xi_map(x_hat[i], x_hat[i+1], xi[k])) * w[k]\n",
    "    I_hat *= delta_x[j] / 2.0\n",
    "    error_3[j] = numpy.abs(I_hat - I)\n",
    "    \n",
    "    # Compute Gauss-Legendre 4-point\n",
    "    xi_map = lambda a,b,xi : (b - a) / 2.0 * xi + (a + b) / 2.0\n",
    "    xi = [-numpy.sqrt(3.0 / 7.0 - 2.0 / 7.0 * numpy.sqrt(6.0 / 5.0)), \n",
    "           numpy.sqrt(3.0 / 7.0 - 2.0 / 7.0 * numpy.sqrt(6.0 / 5.0)),\n",
    "          -numpy.sqrt(3.0 / 7.0 + 2.0 / 7.0 * numpy.sqrt(6.0 / 5.0)),\n",
    "           numpy.sqrt(3.0 / 7.0 + 2.0 / 7.0 * numpy.sqrt(6.0 / 5.0))]\n",
    "    w = [(18.0 + numpy.sqrt(30.0)) / 36.0, (18.0 + numpy.sqrt(30.0)) / 36.0,\n",
    "         (18.0 - numpy.sqrt(30.0)) / 36.0, (18.0 - numpy.sqrt(30.0)) / 36.0]\n",
    "    I_hat = 0.0\n",
    "    for i in range(0, N - 1):\n",
    "        for k in range(len(xi)):\n",
    "            I_hat += f(xi_map(x_hat[i], x_hat[i+1], xi[k])) * w[k]\n",
    "    I_hat *= delta_x[j] / 2.0\n",
    "    error_4[j] = numpy.abs(I_hat - I)\n",
    "    \n",
    "fig = plt.figure(figsize=(8, 6))\n",
    "axes = fig.add_subplot(1, 1, 1)\n",
    "\n",
    "# axes.plot(delta_x, error)\n",
    "axes.loglog(delta_x, error_trap, 'o', label=\"Trapezoid\")\n",
    "axes.loglog(delta_x, error_simpson, 'o', label=\"Simpson's\")\n",
    "axes.loglog(delta_x, error_2, 'o', label=\"G-L 2-point\")\n",
    "axes.loglog(delta_x, error_3, 'o', label=\"G-L 3-point\")\n",
    "axes.loglog(delta_x, error_4, 'o', label=\"G-L 4-point\")\n",
    "\n",
    "order_C = lambda delta_x, error, order: numpy.exp(numpy.log(error) - order * numpy.log(delta_x))\n",
    "axes.loglog(delta_x, order_C(delta_x[0], error_trap[0], 2.0) * delta_x**2.0, 'r--', label=\"2nd Order\")\n",
    "axes.loglog(delta_x, order_C(delta_x[0], error_simpson[0], 4.0) * delta_x**4.0, 'g--', label=\"4th Order\")\n",
    "axes.loglog(delta_x, order_C(delta_x[1], error_3[1], 5) * delta_x**5, 'b--', label=\"5th Order\")\n",
    "axes.loglog(delta_x, order_C(delta_x[1], error_4[1], 7.0) * delta_x**7.0, 'k--', label=\"7th Order\")\n",
    "\n",
    "axes.legend(loc='best',fontsize=14)\n",
    "axes.set_xlabel('$\\Delta x$', fontsize=16)\n",
    "axes.set_xlim((5e-3, delta_x[0]))\n",
    "axes.grid()\n",
    "\n",
    "plt.show()"
   ]
  },
  {
   "cell_type": "markdown",
   "metadata": {
    "hide_input": false,
    "slideshow": {
     "slide_type": "subslide"
    }
   },
   "source": [
    "#### Other Quadrature Families\n",
    "\n",
    " - Clenshaw-Curtis (Gauss-Chebyshev): If $w(x) = \\frac{1}{\\sqrt{1 - x^2}}$ and $g(x)$ are Chebyshev polynomials then we know the roots of the polynomials to be $x_i = \\cos\\left(\\frac{2i-1}{2N} \\pi \\right)$ (the Chebyshev nodes) and we can derive that $w_i = \\frac{\\pi}{N}$.\n",
    " - Gauss-Hermite:  If $w(x) = e^{-x^2}$ and $g(x)$ are Hermite polynomials $H_i(x)$ then\n",
    "   $$w_i = \\frac{2^{N-1} N! \\sqrt{\\pi}}{N^2 (H_{N-1}(x_i))^2}$$"
   ]
  },
  {
   "cell_type": "markdown",
   "metadata": {
    "slideshow": {
     "slide_type": "slide"
    }
   },
   "source": [
    "## SciPy Integration Routines\n",
    "\n",
    "SciPy has a number of integration routines that we have derived here including general purpose integrators that can control error.  For more information see [scipy.integrate](https://docs.scipy.org/doc/scipy/reference/integrate.html)"
   ]
  },
  {
   "cell_type": "code",
   "execution_count": null,
   "metadata": {
    "slideshow": {
     "slide_type": "skip"
    }
   },
   "outputs": [],
   "source": [
    "import scipy.integrate as integrate\n",
    "# integrate?"
   ]
  }
 ],
 "metadata": {
  "celltoolbar": "Slideshow",
  "kernelspec": {
   "display_name": "Python 3",
   "language": "python",
   "name": "python3"
  },
  "language_info": {
   "codemirror_mode": {
    "name": "ipython",
    "version": 3
   },
   "file_extension": ".py",
   "mimetype": "text/x-python",
   "name": "python",
   "nbconvert_exporter": "python",
   "pygments_lexer": "ipython3",
   "version": "3.8.8"
  },
  "latex_envs": {
   "bibliofile": "biblio.bib",
   "cite_by": "apalike",
   "current_citInitial": 1,
   "eqLabelWithNumbers": true,
   "eqNumInitial": 0
  }
 },
 "nbformat": 4,
 "nbformat_minor": 4
}
