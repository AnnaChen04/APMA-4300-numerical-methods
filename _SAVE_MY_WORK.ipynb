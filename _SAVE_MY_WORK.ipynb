{
 "cells": [
  {
   "cell_type": "markdown",
   "metadata": {},
   "source": [
    "# Save your work!\n",
    "\n",
    "After all this work, your jupyter-hub server will be going away ;^(\n",
    "\n",
    "But fear not, you can preserve all that hard work and notebooks and just move them to you're own machine (where they should all run perfectly well in a recent installation of [Anaconda 3](https://www.anaconda.com/products/individual)\n",
    "\n",
    "Just execute the two cells below and this should create a file named jupyterfiles.zip.\n",
    "\n",
    "Right click on jupyterfiles.zip in the File Browser and select Download.import\n",
    "\n",
    "Let me know if you have any questions...\n"
   ]
  },
  {
   "cell_type": "code",
   "execution_count": null,
   "metadata": {},
   "outputs": [],
   "source": [
    "import shutil\n",
    "import os"
   ]
  },
  {
   "cell_type": "code",
   "execution_count": null,
   "metadata": {},
   "outputs": [],
   "source": [
    "shutil.make_archive(\"jupyterfiles\", 'zip', os.environ[\"HOME\"])"
   ]
  }
 ],
 "metadata": {
  "kernelspec": {
   "display_name": "Python 3",
   "language": "python",
   "name": "python3"
  },
  "language_info": {
   "codemirror_mode": {
    "name": "ipython",
    "version": 3
   },
   "file_extension": ".py",
   "mimetype": "text/x-python",
   "name": "python",
   "nbconvert_exporter": "python",
   "pygments_lexer": "ipython3",
   "version": "3.7.5"
  }
 },
 "nbformat": 4,
 "nbformat_minor": 4
}
